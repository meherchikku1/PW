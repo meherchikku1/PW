{
 "cells": [
  {
   "cell_type": "markdown",
   "id": "00e729c6-2b3d-441f-a43d-5001d3b83d94",
   "metadata": {},
   "source": [
    "#some of my codes are running in google colab but showing error in pwlab."
   ]
  },
  {
   "cell_type": "markdown",
   "id": "22bb3590-bc84-4aca-b812-2de9005f71f3",
   "metadata": {},
   "source": [
    "Q1. Which keyword is used to create a function? Create a function to return a list of odd numbers in the\n",
    "range of 1 to 25."
   ]
  },
  {
   "cell_type": "code",
   "execution_count": 1,
   "id": "b111cc40-a761-4ad0-a83a-72d9656e1cd0",
   "metadata": {},
   "outputs": [],
   "source": [
    "# def keyword is used to create a function. "
   ]
  },
  {
   "cell_type": "code",
   "execution_count": 2,
   "id": "392c3d8e-ef45-42d5-ad21-06b702b4c8e6",
   "metadata": {},
   "outputs": [
    {
     "name": "stdout",
     "output_type": "stream",
     "text": [
      "1\n",
      "3\n",
      "5\n",
      "7\n",
      "9\n",
      "11\n",
      "13\n",
      "15\n",
      "17\n",
      "19\n",
      "21\n",
      "23\n"
     ]
    }
   ],
   "source": [
    "for i in range(1,25) :\n",
    "    if i%2 !=0:\n",
    "        print(i)\n"
   ]
  },
  {
   "cell_type": "code",
   "execution_count": null,
   "id": "526bce2b-00f1-4139-9ea8-f3fcc262c35a",
   "metadata": {},
   "outputs": [],
   "source": []
  },
  {
   "cell_type": "markdown",
   "id": "25d3aecf-f6ca-4e60-ae35-b65aeb515ffe",
   "metadata": {},
   "source": [
    "Q2. Why *args and **kwargs is used in some functions? Create a function each for *args and **kwargs\n",
    "to demonstrate their use."
   ]
  },
  {
   "cell_type": "markdown",
   "id": "3ac9feef-7621-4534-b927-d79db39a3db3",
   "metadata": {},
   "source": [
    "ans: ->   *args is Arbitary argument, allows to input multiple functions.\n",
    "     # *args parameter allows function to accept any number of positional arguments.\n",
    "     \n",
    "    "
   ]
  },
  {
   "cell_type": "code",
   "execution_count": 3,
   "id": "c7d21b2c-10ef-419f-a9e7-150a938da0ab",
   "metadata": {},
   "outputs": [
    {
     "ename": "IndentationError",
     "evalue": "unindent does not match any outer indentation level (<tokenize>, line 7)",
     "output_type": "error",
     "traceback": [
      "\u001b[0;36m  File \u001b[0;32m<tokenize>:7\u001b[0;36m\u001b[0m\n\u001b[0;31m    a=sum(1,2,3,4,5)\u001b[0m\n\u001b[0m    ^\u001b[0m\n\u001b[0;31mIndentationError\u001b[0m\u001b[0;31m:\u001b[0m unindent does not match any outer indentation level\n"
     ]
    }
   ],
   "source": [
    "#example\n",
    "def sum(*args):\n",
    "    total=0\n",
    "    for i in args:\n",
    "    total +=i\n",
    "    return total\n",
    "   a=sum(1,2,3,4,5)\n",
    "    print(a)"
   ]
  },
  {
   "cell_type": "markdown",
   "id": "8378745b-4ad5-47d4-a265-822e6df02344",
   "metadata": {},
   "source": [
    "   **kwargs is keyword arguments, which does not allow to input multiple functions.\n",
    "     # **kwargs allows a function to accept any number of keyword arguments. \n",
    "  "
   ]
  },
  {
   "cell_type": "code",
   "execution_count": null,
   "id": "116b3a82-3402-40e9-8b4d-18b74fda84f0",
   "metadata": {},
   "outputs": [],
   "source": [
    "def print_k(**kwargs):\n",
    "    for i,j in kwargs.items()\n",
    "    print(f\"{i}:{j}\")\n",
    "    \n",
    "    print_k(country=\"India\", city=\"Bhubaneswar\")\n",
    "          "
   ]
  },
  {
   "cell_type": "code",
   "execution_count": null,
   "id": "71f82009-67b2-43e4-a398-a39a36905acd",
   "metadata": {},
   "outputs": [],
   "source": []
  },
  {
   "cell_type": "markdown",
   "id": "d308f0aa-cb92-4444-ba1a-20482b5f8746",
   "metadata": {},
   "source": [
    "Q3. What is an iterator in python? Name the method used to initialise the iterator object and the method\n",
    "used for iteration. Use these methods to print the first five elements of the given list [2, 4, 6, 8, 10, 12, 14,\n",
    "16, 18, 20]."
   ]
  },
  {
   "cell_type": "markdown",
   "id": "844a6abe-d24d-41c2-b31c-9cb85741c700",
   "metadata": {},
   "source": [
    "ans:  Iterator _  i.e. an object that allows to iterate over collections of data one at a time such as lists, tuples, dictionaries and sets.\n",
    "\n",
    "# the method used to initialise the iterator object is - iter() \n",
    "# the method used for iteration is - next()"
   ]
  },
  {
   "cell_type": "code",
   "execution_count": null,
   "id": "79120f70-d4a0-4afe-9075-4068a24a53db",
   "metadata": {},
   "outputs": [],
   "source": [
    "a=[2,4,6,8,10,12,14,16,18,20]\n",
    "iter(lambda x:x, a in range(5))"
   ]
  },
  {
   "cell_type": "code",
   "execution_count": null,
   "id": "13a72644-941a-426d-b58f-6f3701a85991",
   "metadata": {},
   "outputs": [],
   "source": []
  },
  {
   "cell_type": "markdown",
   "id": "fedf4b8f-b563-4e76-b0e3-b4e6196e7ecd",
   "metadata": {},
   "source": [
    "Q4. What is a generator function in python? Why yield keyword is used? Give an example of a generator\n",
    "function."
   ]
  },
  {
   "cell_type": "markdown",
   "id": "e327eb5b-c5a9-4287-b769-da5431105df1",
   "metadata": {},
   "source": [
    "ans: A generator function is a special type of function which does not return a single value, instead it returns\n",
    "iterator object with a sequence of values.\n",
    "\n",
    "#_The yield keyword is used to produce a value from the generator and pause the generator function execution until next value is requested."
   ]
  },
  {
   "cell_type": "code",
   "execution_count": null,
   "id": "077a7729-615f-4104-aeae-48aeddd07881",
   "metadata": {},
   "outputs": [],
   "source": [
    "# example:\n",
    "\n",
    "def test(n)\n",
    "a,b=0,1\n",
    "for i in range(10)\n",
    "yield a\n",
    "a,b=b,a+b\n",
    "print(i)\n"
   ]
  },
  {
   "cell_type": "code",
   "execution_count": null,
   "id": "cf776b27-56ff-4cf6-bffe-aa88f2f365c1",
   "metadata": {},
   "outputs": [],
   "source": []
  },
  {
   "cell_type": "markdown",
   "id": "06f2cf87-2209-4f13-800c-7a35500ba351",
   "metadata": {},
   "source": [
    "Q5. Create a generator function for prime numbers less than 1000. Use the next() method to print the\n",
    "first 20 prime numbers."
   ]
  },
  {
   "cell_type": "code",
   "execution_count": null,
   "id": "0b768a64-8ee1-4ccc-87c9-bc5cb774055f",
   "metadata": {},
   "outputs": [],
   "source": [
    "a=1000\n",
    "for i in range(2,1000):\n",
    "    for x in range (2,i):\n",
    "        if(i%x==0):\n",
    "            break\n",
    "    else:\n",
    "                print(i)"
   ]
  },
  {
   "cell_type": "code",
   "execution_count": null,
   "id": "6b71fdff-79cc-464e-a9cd-ed322bae284c",
   "metadata": {},
   "outputs": [],
   "source": []
  },
  {
   "cell_type": "markdown",
   "id": "2399c03c-b56a-468f-a224-18e54116c8aa",
   "metadata": {},
   "source": [
    "Q6. Write a python program to print the first 10 Fibonacci numbers using a while loop."
   ]
  },
  {
   "cell_type": "code",
   "execution_count": null,
   "id": "cfef7cf0-9a11-4a01-b7a8-d3128e20050b",
   "metadata": {},
   "outputs": [],
   "source": [
    "def test_fib(n):\n",
    "    a,b=0,1\n",
    "    while True:\n",
    "        yield a\n",
    "         a,b = b,a+b\n",
    "        \n",
    "         fib = test_fib(n):\n",
    "            \n",
    "             for i in range(10):\n",
    "                print(next(fib))\n",
    "        "
   ]
  },
  {
   "cell_type": "code",
   "execution_count": null,
   "id": "da63252f-fc10-4341-a91b-1a9833c934df",
   "metadata": {},
   "outputs": [],
   "source": []
  },
  {
   "cell_type": "markdown",
   "id": "404e88d3-ceb2-4335-9699-9a2afe83c286",
   "metadata": {},
   "source": [
    "Q7. Write a List Comprehension to iterate through the given string: ‘pwskills’.\n",
    "Expected output: ['p', 'w', 's', 'k', 'i', 'l', 'l', 's']"
   ]
  },
  {
   "cell_type": "code",
   "execution_count": null,
   "id": "741b4e1b-e0d9-42c2-bf0d-7ec497981144",
   "metadata": {},
   "outputs": [],
   "source": [
    "s=\"pwskills\"\n",
    "list(filter(lambda x: x.lower() , s))"
   ]
  },
  {
   "cell_type": "code",
   "execution_count": null,
   "id": "66695b65-908b-4830-ab5a-340cf0bdce94",
   "metadata": {},
   "outputs": [],
   "source": []
  },
  {
   "cell_type": "markdown",
   "id": "a935a8d5-5b90-49af-a3e8-f4d9897b9ac1",
   "metadata": {},
   "source": [
    "Q8. Write a python program to check whether a given number is Palindrome or not using a while loop."
   ]
  },
  {
   "cell_type": "code",
   "execution_count": null,
   "id": "d1cb7dc0-38f4-402d-a383-92ffd4fcffb5",
   "metadata": {},
   "outputs": [],
   "source": [
    "num=int(input(\"enter the number:\"))\n",
    "temp=num\n",
    "rev=0\n",
    "while(num>0):\n",
    "    dig=num%10\n",
    "    rev=rev*10+dig\n",
    "    num=num//10\n",
    "       if(temp==rev):\n",
    "            print(\"i.e. prime\")\n",
    "             else:\n",
    "                print(\"i.e. not prime\")\n",
    "               \n",
    "      "
   ]
  },
  {
   "cell_type": "code",
   "execution_count": null,
   "id": "230abbe0-5bf9-4e05-9006-076bd5bf919c",
   "metadata": {},
   "outputs": [],
   "source": []
  },
  {
   "cell_type": "markdown",
   "id": "76101ac0-a98a-4921-9083-5ee091fcfe55",
   "metadata": {},
   "source": [
    "Q9. Write a code to print odd numbers from 1 to 100 using list comprehension."
   ]
  },
  {
   "cell_type": "code",
   "execution_count": null,
   "id": "e2b3be48-a66e-423b-8f4f-6452cbf6aca2",
   "metadata": {},
   "outputs": [],
   "source": [
    "l=range(1,100)\n",
    "list(filter(lambda x:x%2!=0 , l)\n",
    "     "
   ]
  },
  {
   "cell_type": "code",
   "execution_count": null,
   "id": "10559559-6c35-45e6-9ba0-331d0fc03a0d",
   "metadata": {},
   "outputs": [],
   "source": []
  }
 ],
 "metadata": {
  "kernelspec": {
   "display_name": "Python 3 (ipykernel)",
   "language": "python",
   "name": "python3"
  },
  "language_info": {
   "codemirror_mode": {
    "name": "ipython",
    "version": 3
   },
   "file_extension": ".py",
   "mimetype": "text/x-python",
   "name": "python",
   "nbconvert_exporter": "python",
   "pygments_lexer": "ipython3",
   "version": "3.10.8"
  }
 },
 "nbformat": 4,
 "nbformat_minor": 5
}
