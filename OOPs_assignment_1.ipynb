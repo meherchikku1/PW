{
  "nbformat": 4,
  "nbformat_minor": 0,
  "metadata": {
    "colab": {
      "provenance": [],
      "toc_visible": true
    },
    "kernelspec": {
      "name": "python3",
      "display_name": "Python 3"
    },
    "language_info": {
      "name": "python"
    }
  },
  "cells": [
    {
      "cell_type": "markdown",
      "source": [
        "Q1. Explain Class and Object with respect to Object-Oriented Programming. Give a suitable example."
      ],
      "metadata": {
        "id": "ZvuHQRa6iT5i"
      }
    },
    {
      "cell_type": "markdown",
      "source": [
        "# New Section"
      ],
      "metadata": {
        "id": "8GBQvswx7hZ6"
      }
    },
    {
      "cell_type": "code",
      "source": [
        "# class -> i.e. a blueprint or a template for creating objects. I t defines the attributes and behaviour that object of that class will possess.\n",
        "\n",
        "# object -> i.e. an instance of a class which is created based on blueprint defined by that class."
      ],
      "metadata": {
        "id": "dyuxBFk8iUug"
      },
      "execution_count": null,
      "outputs": []
    },
    {
      "cell_type": "code",
      "source": [
        "#example of class:\n",
        "\n",
        "class Student:\n",
        "  def __init__ (self , name , marks):\n",
        "    self.name=name\n",
        "    self.marks=marks\n",
        "\n",
        "  def return_details(self):\n",
        "      return self.name , self.marks\n"
      ],
      "metadata": {
        "id": "y9EGrF-iiyUj"
      },
      "execution_count": null,
      "outputs": []
    },
    {
      "cell_type": "code",
      "source": [
        "# example of Object:\n",
        "\n",
        "student1=Student(\"Sandeep\" , 10)\n",
        "student1.return_details()"
      ],
      "metadata": {
        "colab": {
          "base_uri": "https://localhost:8080/"
        },
        "id": "mWelra4LjWhV",
        "outputId": "616f06e6-be0e-4f6b-d457-3751db1e60d6"
      },
      "execution_count": null,
      "outputs": [
        {
          "output_type": "execute_result",
          "data": {
            "text/plain": [
              "('Sandeep', 10)"
            ]
          },
          "metadata": {},
          "execution_count": 8
        }
      ]
    },
    {
      "cell_type": "code",
      "source": [],
      "metadata": {
        "id": "_9c47WCijv9b"
      },
      "execution_count": null,
      "outputs": []
    },
    {
      "cell_type": "markdown",
      "source": [
        "Q2. Name the four pillars of OOPs."
      ],
      "metadata": {
        "id": "Q_iC1A6fkHFy"
      }
    },
    {
      "cell_type": "markdown",
      "source": [
        "ans:\n",
        "i. Encapsulation\n",
        "ii. Polymerphism\n",
        "iii. Inheritance\n",
        "iv. Abstraction"
      ],
      "metadata": {
        "id": "rcZ92a2MkgZH"
      }
    },
    {
      "cell_type": "code",
      "source": [],
      "metadata": {
        "id": "nvsdimUQkkj0"
      },
      "execution_count": null,
      "outputs": []
    },
    {
      "cell_type": "markdown",
      "source": [
        "Q3. Explain why the __init__() function is used. Give a suitable example."
      ],
      "metadata": {
        "id": "zV5tLiQaks1i"
      }
    },
    {
      "cell_type": "code",
      "source": [
        "# __init__() function is used to initialize attribute of a class."
      ],
      "metadata": {
        "id": "ZkIHLk7Ckt73"
      },
      "execution_count": null,
      "outputs": []
    },
    {
      "cell_type": "code",
      "source": [
        "class Person:\n",
        "    def __init__(self, name, age):\n",
        "        self.name = name\n",
        "        self.age = age\n",
        "\n",
        "    def return_detail_of_person(self):\n",
        "      return self.name , self.age"
      ],
      "metadata": {
        "id": "5y7Rm_calS4W"
      },
      "execution_count": null,
      "outputs": []
    },
    {
      "cell_type": "code",
      "source": [
        "a=Person(\"Sandeep\" , 20)\n",
        "a.return_detail_of_person()"
      ],
      "metadata": {
        "colab": {
          "base_uri": "https://localhost:8080/"
        },
        "id": "WUrpn0cVlf-4",
        "outputId": "19b952b9-b870-4148-cc97-3766f6cc6243"
      },
      "execution_count": null,
      "outputs": [
        {
          "output_type": "execute_result",
          "data": {
            "text/plain": [
              "('Sandeep', 20)"
            ]
          },
          "metadata": {},
          "execution_count": 10
        }
      ]
    },
    {
      "cell_type": "code",
      "source": [],
      "metadata": {
        "id": "fjbx2vyCln_T"
      },
      "execution_count": null,
      "outputs": []
    },
    {
      "cell_type": "markdown",
      "source": [
        "Q4. Why self is used in OOPs?"
      ],
      "metadata": {
        "id": "MZK-10O3lpfb"
      }
    },
    {
      "cell_type": "code",
      "source": [
        "# self represents the instance of the class. By using the \"self\" keyword we can access the attributes and methods of the class."
      ],
      "metadata": {
        "id": "tvVarFhgltKc"
      },
      "execution_count": null,
      "outputs": []
    },
    {
      "cell_type": "code",
      "source": [],
      "metadata": {
        "id": "wBfl3LVMmDCm"
      },
      "execution_count": null,
      "outputs": []
    },
    {
      "cell_type": "markdown",
      "source": [
        "Q5. What is inheritance? Give an example for each type of inheritance."
      ],
      "metadata": {
        "id": "FP4WRN8HmESJ"
      }
    },
    {
      "cell_type": "code",
      "source": [
        "#Inheritance is a method that allows us to define a class that inherits all the methods and properties from another class."
      ],
      "metadata": {
        "id": "C_SCi_lTmHgf"
      },
      "execution_count": null,
      "outputs": []
    },
    {
      "cell_type": "code",
      "source": [
        "# There are 2 types of inheritance.\n",
        "# i. multiple inheritance\n",
        "# ii. multilevel inheritance"
      ],
      "metadata": {
        "id": "CjkZVBtJmXQy"
      },
      "execution_count": null,
      "outputs": []
    },
    {
      "cell_type": "code",
      "source": [
        "#Multiple Inheritance:\n",
        "\n",
        "class Student1:\n",
        "  def details1(self , name , age , course ):\n",
        "    self.name=name\n",
        "    self.age=age\n",
        "    self.course=course\n",
        "\n",
        "  def return_detailss1(self):\n",
        "    return self.name, self.age, self.course"
      ],
      "metadata": {
        "id": "6CVET3Kzmmsy"
      },
      "execution_count": null,
      "outputs": []
    },
    {
      "cell_type": "code",
      "source": [
        "class Student2:\n",
        "  def details2(self , name , age , course ):\n",
        "    self.name=name\n",
        "    self.age=age\n",
        "    self.course=course\n",
        "\n",
        "  def return_detailss2(self):\n",
        "    return self.name, self.age, self.course"
      ],
      "metadata": {
        "id": "-fByb5CNnb1L"
      },
      "execution_count": null,
      "outputs": []
    },
    {
      "cell_type": "code",
      "source": [
        "class Student3(Student1 , Student2):\n",
        "  pass"
      ],
      "metadata": {
        "id": "KmDJHc5OnkHN"
      },
      "execution_count": null,
      "outputs": []
    },
    {
      "cell_type": "code",
      "source": [
        "aa=Student3()\n",
        "aa.details1(\"sandeep\", 20 , \"b.tech\")\n",
        "aa.return_detailss1()"
      ],
      "metadata": {
        "colab": {
          "base_uri": "https://localhost:8080/"
        },
        "id": "1GblODq7nttP",
        "outputId": "2b5bd7b2-d182-49d8-9267-63c639efb5b1"
      },
      "execution_count": null,
      "outputs": [
        {
          "output_type": "execute_result",
          "data": {
            "text/plain": [
              "('sandeep', 20, 'b.tech')"
            ]
          },
          "metadata": {},
          "execution_count": 38
        }
      ]
    },
    {
      "cell_type": "code",
      "source": [],
      "metadata": {
        "id": "chf86axJoSC8"
      },
      "execution_count": null,
      "outputs": []
    },
    {
      "cell_type": "code",
      "source": [
        "# Multilevel Inheritance"
      ],
      "metadata": {
        "id": "hADmMJXBpdU6"
      },
      "execution_count": null,
      "outputs": []
    },
    {
      "cell_type": "code",
      "source": [
        "class Stu1:\n",
        "  def det1(self ):\n",
        "   print(\"sandeep meher , 20 , b.tech\")\n"
      ],
      "metadata": {
        "id": "67sppdG-pkFf"
      },
      "execution_count": null,
      "outputs": []
    },
    {
      "cell_type": "code",
      "source": [
        "class Stu2(Stu1):\n",
        "  def det2(self ):\n",
        "    print(\"Golak Bihari\" , 20 , \"b.sc\")"
      ],
      "metadata": {
        "id": "Kj3SrIrspsRL"
      },
      "execution_count": null,
      "outputs": []
    },
    {
      "cell_type": "code",
      "source": [
        "class Stu3(Stu2):\n",
        "  pass"
      ],
      "metadata": {
        "id": "Do7NCHkbp1tu"
      },
      "execution_count": null,
      "outputs": []
    },
    {
      "cell_type": "code",
      "source": [
        "k=Stu3()\n",
        "k.det1()"
      ],
      "metadata": {
        "colab": {
          "base_uri": "https://localhost:8080/"
        },
        "id": "NI0p2QH9p-Cz",
        "outputId": "1d1e8c04-a0a1-4456-8a18-461c8bdb241d"
      },
      "execution_count": null,
      "outputs": [
        {
          "output_type": "stream",
          "name": "stdout",
          "text": [
            "sandeep meher , 20 , b.tech\n"
          ]
        }
      ]
    },
    {
      "cell_type": "code",
      "source": [],
      "metadata": {
        "id": "pL6izoydqRnN"
      },
      "execution_count": null,
      "outputs": []
    }
  ]
}