{
 "cells": [
  {
   "cell_type": "markdown",
   "id": "052186ce-0f0d-4022-a33f-1d7f59a3e817",
   "metadata": {},
   "source": [
    "Q1. What is an API? Give an example, where an API is used in real life."
   ]
  },
  {
   "cell_type": "markdown",
   "id": "27603870-11c9-4fdc-836d-3acf546e3410",
   "metadata": {},
   "source": [
    "Ans:\n",
    "\n",
    "* An API (Application Programming Interface) is a set of rules and protocols that allows software applications to communicate and exchange data, enabling them to work together seamlessly.\n",
    "\n",
    "* example: The website includes social media sharing buttons for Facebook and Twitter."
   ]
  },
  {
   "cell_type": "code",
   "execution_count": null,
   "id": "2241bea8-f1a9-4203-b9b2-78651820b76c",
   "metadata": {},
   "outputs": [],
   "source": []
  },
  {
   "cell_type": "markdown",
   "id": "26b2fe20-0aac-491d-94c4-73e9d4bfc650",
   "metadata": {},
   "source": [
    "Q2. Give advantages and disadvantages of using API."
   ]
  },
  {
   "cell_type": "markdown",
   "id": "4141823b-40c4-4eeb-8ef6-f4925d35f992",
   "metadata": {},
   "source": [
    "Advantages of using API:\n",
    " \n",
    " * API solutions enable different software systems to communicate with each other, regardless of their programming language or platform. This enhances the interoperability between systems, allowing for the exchange of data and functionality."
   ]
  },
  {
   "cell_type": "markdown",
   "id": "7fccca34-2c8f-42cb-b973-81db3b115fed",
   "metadata": {},
   "source": [
    "Disadvantages of using API:\n",
    "    \n",
    "* Disadvantages of API includes such as security concerns, complexity, compatibility issues, dependency on third-party developers, and governance and management issues.    "
   ]
  },
  {
   "cell_type": "code",
   "execution_count": null,
   "id": "ae9a5962-eb85-40cf-bb95-84a026653ec4",
   "metadata": {},
   "outputs": [],
   "source": []
  },
  {
   "cell_type": "markdown",
   "id": "ec12ec18-afb0-4ee8-894e-1966abb80584",
   "metadata": {},
   "source": [
    "Q3. What is a Web API? Differentiate between API and Web API."
   ]
  },
  {
   "cell_type": "code",
   "execution_count": 1,
   "id": "476ad60d-c449-42a2-aabb-ddb12f81c96a",
   "metadata": {},
   "outputs": [],
   "source": [
    "#API stands for Application Programming Interface. A Web API is an application programming interface for the Web."
   ]
  },
  {
   "cell_type": "markdown",
   "id": "60008752-2866-4fc1-8b0a-7672c85eac44",
   "metadata": {},
   "source": [
    "* API (Application Programming Interface) is a general term encompassing rules for software communication. Web API (Web Application Programming Interface) is a specific type for web-based interactions, using HTTP/HTTPS. Web APIs enable access to web services, while APIs include a wider range of interfaces, including those for hardware and software libraries."
   ]
  },
  {
   "cell_type": "code",
   "execution_count": null,
   "id": "72b32afe-066c-466c-85fe-2a2c6dd518d9",
   "metadata": {},
   "outputs": [],
   "source": []
  },
  {
   "cell_type": "markdown",
   "id": "4442e017-249a-464a-bf4e-0ab5d639ada7",
   "metadata": {},
   "source": [
    "Q4. Explain REST and SOAP Architecture. Mention shortcomings of SOAP."
   ]
  },
  {
   "cell_type": "markdown",
   "id": "f5ab890d-f621-43c1-b679-23d18e839a62",
   "metadata": {},
   "source": [
    "\n",
    "* REST (Representational State Transfer): REST is an architectural style for designing networked applications. It relies on stateless communication using standard HTTP methods (GET, POST, PUT, DELETE) and emphasizes simplicity, scalability, and a client-server model."
   ]
  },
  {
   "cell_type": "markdown",
   "id": "a5262af6-83f7-4cd1-aa21-c4b25b2e34a4",
   "metadata": {},
   "source": [
    "* SOAP (Simple Object Access Protocol): SOAP is a protocol for exchanging structured information in the implementation of web services. It uses XML for message formatting and can operate over various transport protocols, including HTTP, SMTP, and more. SOAP is known for its strict standards and complex messaging format"
   ]
  },
  {
   "cell_type": "markdown",
   "id": "cf1c8492-f7c6-4542-8b5d-41ad01aefbcc",
   "metadata": {},
   "source": [
    "* Shortcomings of SOAP architecture are:\n",
    "    #Complexity\n",
    "    #performance\n",
    "    #Limited browser support\n",
    "    #less user friendly"
   ]
  },
  {
   "cell_type": "code",
   "execution_count": null,
   "id": "138ac12f-10fb-408c-b8cf-1e29dbfed66b",
   "metadata": {},
   "outputs": [],
   "source": []
  },
  {
   "cell_type": "markdown",
   "id": "9667fc49-d325-4bcd-b70c-0743d80b2bb8",
   "metadata": {},
   "source": [
    "Q5. Differentiate between REST and SOAP."
   ]
  },
  {
   "cell_type": "markdown",
   "id": "887ab61c-3596-4047-ace1-6195bfa43d55",
   "metadata": {},
   "source": [
    "* \n",
    "REST (Representational State Transfer) is an architectural style for designing web services. It uses standard HTTP methods, such as GET and POST, and lightweight data formats like JSON or XML. REST is stateless, offering simplicity and ease of use, making it suitable for a wide range of applications, including web and mobile services."
   ]
  }
 ],
 "metadata": {
  "kernelspec": {
   "display_name": "Python 3 (ipykernel)",
   "language": "python",
   "name": "python3"
  },
  "language_info": {
   "codemirror_mode": {
    "name": "ipython",
    "version": 3
   },
   "file_extension": ".py",
   "mimetype": "text/x-python",
   "name": "python",
   "nbconvert_exporter": "python",
   "pygments_lexer": "ipython3",
   "version": "3.10.8"
  }
 },
 "nbformat": 4,
 "nbformat_minor": 5
}
