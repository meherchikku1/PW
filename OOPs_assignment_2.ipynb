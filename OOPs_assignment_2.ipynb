{
  "nbformat": 4,
  "nbformat_minor": 0,
  "metadata": {
    "colab": {
      "provenance": []
    },
    "kernelspec": {
      "name": "python3",
      "display_name": "Python 3"
    },
    "language_info": {
      "name": "python"
    }
  },
  "cells": [
    {
      "cell_type": "markdown",
      "source": [
        "Q1. What is Abstraction in OOps? Explain with an example."
      ],
      "metadata": {
        "id": "gbY4vzxbtHks"
      }
    },
    {
      "cell_type": "code",
      "source": [
        "# Abstraction -> i.e. the process of hiding the internal details of an application and showing only necessary details to the user."
      ],
      "metadata": {
        "id": "whucocyMtL4k"
      },
      "execution_count": null,
      "outputs": []
    },
    {
      "cell_type": "code",
      "source": [
        "import abc\n",
        "class Shape:\n",
        "  @abc.abstractmethod\n",
        "  def area(self):\n",
        "    pass\n",
        "\n",
        "  @abc.abstractmethod\n",
        "  def perimeter(self):\n",
        "    pass\n",
        "\n",
        "class circle(Shape):\n",
        "  def __init__(self , radius):\n",
        "    self.radius=radius\n",
        "\n",
        "  def area(self):\n",
        "    return 3.14*self.radius*self.radius\n",
        "\n",
        "  def perimeter(self):\n",
        "    return 2*3.14*self.radius\n",
        "\n",
        "class rectangle(Shape):\n",
        "  def __init__(self, length , width):\n",
        "    self.length=length\n",
        "    self.width=width\n",
        "\n",
        "  def area(self):\n",
        "    return self.length * self.width\n",
        "\n",
        "  def perimeter(self):\n",
        "    return 2*(self.length+self.width)\n",
        "\n",
        "\n",
        "class square(Shape):\n",
        "  def __init__(self, length):\n",
        "    self.length=length\n",
        "\n",
        "  def area(self):\n",
        "    return self.length**2\n",
        "\n",
        "  def perimeter(self):\n",
        "    return 4*self.length"
      ],
      "metadata": {
        "id": "XycQ-Ql5twpN"
      },
      "execution_count": null,
      "outputs": []
    },
    {
      "cell_type": "code",
      "source": [
        "CIRCLE=circle(5)\n",
        "RECTANGLE=rectangle(5,10)\n",
        "SQUARE=square(5)"
      ],
      "metadata": {
        "id": "PKQdOAAew3Ol"
      },
      "execution_count": null,
      "outputs": []
    },
    {
      "cell_type": "code",
      "source": [
        "CIRCLE.area()"
      ],
      "metadata": {
        "colab": {
          "base_uri": "https://localhost:8080/"
        },
        "id": "pVqHFmB7xP53",
        "outputId": "16806643-5731-40e3-9619-1c8f471c9a00"
      },
      "execution_count": null,
      "outputs": [
        {
          "output_type": "execute_result",
          "data": {
            "text/plain": [
              "78.5"
            ]
          },
          "metadata": {},
          "execution_count": 5
        }
      ]
    },
    {
      "cell_type": "code",
      "source": [
        "CIRCLE.perimeter()"
      ],
      "metadata": {
        "colab": {
          "base_uri": "https://localhost:8080/"
        },
        "id": "v2RDmwSTxcrD",
        "outputId": "b0de75fb-13b1-4d88-86f0-477e15927586"
      },
      "execution_count": null,
      "outputs": [
        {
          "output_type": "execute_result",
          "data": {
            "text/plain": [
              "31.400000000000002"
            ]
          },
          "metadata": {},
          "execution_count": 6
        }
      ]
    },
    {
      "cell_type": "code",
      "source": [
        "RECTANGLE.area()"
      ],
      "metadata": {
        "colab": {
          "base_uri": "https://localhost:8080/"
        },
        "id": "DmpT2ig9xgk3",
        "outputId": "8ddeede4-4266-4eb5-bf94-cbaf0641c80d"
      },
      "execution_count": null,
      "outputs": [
        {
          "output_type": "execute_result",
          "data": {
            "text/plain": [
              "50"
            ]
          },
          "metadata": {},
          "execution_count": 7
        }
      ]
    },
    {
      "cell_type": "code",
      "source": [
        "RECTANGLE.perimeter()"
      ],
      "metadata": {
        "colab": {
          "base_uri": "https://localhost:8080/"
        },
        "id": "KCCOA17axj0b",
        "outputId": "11322a5c-3958-4833-df80-932070bf11e7"
      },
      "execution_count": null,
      "outputs": [
        {
          "output_type": "execute_result",
          "data": {
            "text/plain": [
              "30"
            ]
          },
          "metadata": {},
          "execution_count": 8
        }
      ]
    },
    {
      "cell_type": "code",
      "source": [
        "SQUARE.area()"
      ],
      "metadata": {
        "colab": {
          "base_uri": "https://localhost:8080/"
        },
        "id": "z2xScbmoxmoN",
        "outputId": "783528a0-55f3-47d6-da6c-16d4e084bf72"
      },
      "execution_count": null,
      "outputs": [
        {
          "output_type": "execute_result",
          "data": {
            "text/plain": [
              "25"
            ]
          },
          "metadata": {},
          "execution_count": 9
        }
      ]
    },
    {
      "cell_type": "code",
      "source": [
        "SQUARE.perimeter()"
      ],
      "metadata": {
        "colab": {
          "base_uri": "https://localhost:8080/"
        },
        "id": "9mmjFUiKxpfS",
        "outputId": "13132ab3-8167-480a-d22c-015961fb45e9"
      },
      "execution_count": null,
      "outputs": [
        {
          "output_type": "execute_result",
          "data": {
            "text/plain": [
              "20"
            ]
          },
          "metadata": {},
          "execution_count": 10
        }
      ]
    },
    {
      "cell_type": "code",
      "source": [],
      "metadata": {
        "id": "zezvhjsZxrdB"
      },
      "execution_count": null,
      "outputs": []
    },
    {
      "cell_type": "code",
      "source": [],
      "metadata": {
        "id": "iriONkzfxvp1"
      },
      "execution_count": null,
      "outputs": []
    },
    {
      "cell_type": "markdown",
      "source": [
        "Q2. Differentiate between Abstraction and Encapsulation. Explain with an example."
      ],
      "metadata": {
        "id": "2rwbarBUxwBG"
      }
    },
    {
      "cell_type": "code",
      "source": [
        "#Abstraction is the method of hiding the unwanted information.\n",
        "#Encapsulation is a method to hide the data to protect information from outside."
      ],
      "metadata": {
        "id": "1KDBAP6sxy6s"
      },
      "execution_count": null,
      "outputs": []
    },
    {
      "cell_type": "code",
      "source": [
        "# ABSTRACTION\n",
        "\n",
        "import abc\n",
        "class Shape:\n",
        "  @abc.abstractmethod\n",
        "  def area(self):\n",
        "    pass\n",
        "\n",
        "  @abc.abstractmethod\n",
        "  def perimeter(self):\n",
        "    pass\n",
        "\n",
        "class circle(Shape):\n",
        "  def __init__(self , radius):\n",
        "    self.radius=radius\n",
        "\n",
        "  def area(self):\n",
        "    return 3.14*self.radius*self.radius\n",
        "\n",
        "  def perimeter(self):\n",
        "    return 2*3.14*self.radius\n",
        "\n",
        "class rectangle(Shape):\n",
        "  def __init__(self, length , width):\n",
        "    self.length=length\n",
        "    self.width=width\n",
        "\n",
        "  def area(self):\n",
        "    return self.length * self.width\n",
        "\n",
        "  def perimeter(self):\n",
        "    return 2*(self.length+self.width)\n",
        "\n",
        "\n",
        "class square(Shape):\n",
        "  def __init__(self, length):\n",
        "    self.length=length\n",
        "\n",
        "  def area(self):\n",
        "    return self.length**2\n",
        "\n",
        "  def perimeter(self):\n",
        "    return 4*self.length"
      ],
      "metadata": {
        "id": "Bx7gEOwBySra"
      },
      "execution_count": null,
      "outputs": []
    },
    {
      "cell_type": "code",
      "source": [
        "CIRCLE=circle(50)\n",
        "RECTANGLE=rectangle(50,100)\n",
        "SQUARE=square(50)"
      ],
      "metadata": {
        "id": "YVHiVrhcysbO"
      },
      "execution_count": null,
      "outputs": []
    },
    {
      "cell_type": "code",
      "source": [
        "CIRCLE.area()"
      ],
      "metadata": {
        "colab": {
          "base_uri": "https://localhost:8080/"
        },
        "id": "N2sTV8MtyvhP",
        "outputId": "22e8ea03-e658-41db-c14e-8c6668d431fc"
      },
      "execution_count": null,
      "outputs": [
        {
          "output_type": "execute_result",
          "data": {
            "text/plain": [
              "7850.0"
            ]
          },
          "metadata": {},
          "execution_count": 14
        }
      ]
    },
    {
      "cell_type": "code",
      "source": [
        "SQUARE.perimeter()"
      ],
      "metadata": {
        "colab": {
          "base_uri": "https://localhost:8080/"
        },
        "id": "RZQa7PkHyx4b",
        "outputId": "b3e03f63-6a81-44f8-819f-01199efeaf4b"
      },
      "execution_count": null,
      "outputs": [
        {
          "output_type": "execute_result",
          "data": {
            "text/plain": [
              "200"
            ]
          },
          "metadata": {},
          "execution_count": 15
        }
      ]
    },
    {
      "cell_type": "code",
      "source": [
        "#Encapsulation:\n",
        "class BankAccount:\n",
        "    def __init__(self, account_number, balance):\n",
        "        self.__account_number = account_number\n",
        "        self.__balance = balance\n",
        "\n",
        "    def deposit(self, amount):\n",
        "        self.__balance += amount\n",
        "\n",
        "    def withdraw(self, amount):\n",
        "        if self.__balance >= amount:\n",
        "            self.__balance -= amount\n",
        "        else:\n",
        "            print(\"Insufficient balance.\")\n",
        "\n",
        "    def get_balance(self):\n",
        "        return self.__balance"
      ],
      "metadata": {
        "id": "ZI30xvBCy0yw"
      },
      "execution_count": null,
      "outputs": []
    },
    {
      "cell_type": "code",
      "source": [
        "a=BankAccount(33822793547 , 10000)\n",
        "a.get_balance()"
      ],
      "metadata": {
        "colab": {
          "base_uri": "https://localhost:8080/"
        },
        "id": "omR6tLrCzdYz",
        "outputId": "2338c368-5b65-4d59-bcff-353c082ccd6f"
      },
      "execution_count": null,
      "outputs": [
        {
          "output_type": "execute_result",
          "data": {
            "text/plain": [
              "10000"
            ]
          },
          "metadata": {},
          "execution_count": 17
        }
      ]
    },
    {
      "cell_type": "code",
      "source": [
        "a.deposit(2000)"
      ],
      "metadata": {
        "id": "5wmYcgPGznqJ"
      },
      "execution_count": null,
      "outputs": []
    },
    {
      "cell_type": "code",
      "source": [
        "a.get_balance()"
      ],
      "metadata": {
        "colab": {
          "base_uri": "https://localhost:8080/"
        },
        "id": "_ke2Zts_zq9t",
        "outputId": "37e28ad9-cbf7-408f-8608-51ed9215030c"
      },
      "execution_count": null,
      "outputs": [
        {
          "output_type": "execute_result",
          "data": {
            "text/plain": [
              "12000"
            ]
          },
          "metadata": {},
          "execution_count": 19
        }
      ]
    },
    {
      "cell_type": "code",
      "source": [],
      "metadata": {
        "id": "2RZTPtp5zthg"
      },
      "execution_count": null,
      "outputs": []
    },
    {
      "cell_type": "markdown",
      "source": [
        "Q3. What is abc module in python? Why is it used?"
      ],
      "metadata": {
        "id": "Z0_AhZU-zwVK"
      }
    },
    {
      "cell_type": "code",
      "source": [
        "# abc module is a library in python that provides the infrastructure for defining custom abstract based class."
      ],
      "metadata": {
        "id": "ZTuvw5qUz5ux"
      },
      "execution_count": null,
      "outputs": []
    },
    {
      "cell_type": "code",
      "source": [
        "# it is used to provide the infrastructure for defining custom abstract base classes."
      ],
      "metadata": {
        "id": "mPgas7_l0UHw"
      },
      "execution_count": null,
      "outputs": []
    },
    {
      "cell_type": "code",
      "source": [],
      "metadata": {
        "id": "rCPZ5mn20nMk"
      },
      "execution_count": null,
      "outputs": []
    },
    {
      "cell_type": "markdown",
      "source": [
        "Q4. How can we achieve data abstraction?"
      ],
      "metadata": {
        "id": "Ouyoo4Cx0riD"
      }
    },
    {
      "cell_type": "code",
      "source": [
        "# Data abstraction can be achieved through creating abstract classes and inheriting them later."
      ],
      "metadata": {
        "id": "Q99HUj0C0sBq"
      },
      "execution_count": null,
      "outputs": []
    },
    {
      "cell_type": "code",
      "source": [],
      "metadata": {
        "id": "NCO2as2P04JL"
      },
      "execution_count": null,
      "outputs": []
    },
    {
      "cell_type": "markdown",
      "source": [
        "Q5. Can we create an instance of an abstract class? Explain your answer."
      ],
      "metadata": {
        "id": "U5JF5Qhq04uH"
      }
    },
    {
      "cell_type": "code",
      "source": [
        "# Abstract class cannot be created or initialized in python. An Abstract method can be call by its subclasses."
      ],
      "metadata": {
        "id": "XFJQjGC41Pwu"
      },
      "execution_count": null,
      "outputs": []
    }
  ]
}