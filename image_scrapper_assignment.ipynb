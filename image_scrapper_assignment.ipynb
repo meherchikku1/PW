{
 "cells": [
  {
   "cell_type": "markdown",
   "id": "59e5c998-adff-42bf-ac05-c507bfe97f9d",
   "metadata": {},
   "source": [
    "Q1. Write a python program to extract the video URL of the first five videos."
   ]
  },
  {
   "cell_type": "code",
   "execution_count": 3,
   "id": "9bb86790-5895-4499-a593-19cf256bc3ac",
   "metadata": {},
   "outputs": [
    {
     "data": {
      "text/plain": [
       "[]"
      ]
     },
     "execution_count": 3,
     "metadata": {},
     "output_type": "execute_result"
    }
   ],
   "source": [
    "import requests\n",
    "from bs4 import BeautifulSoup as bs\n",
    "from urllib.request import urlopen\n",
    "import logging\n",
    "\n",
    "youtube_search = \"https://www.youtube.com/@PW-Foundation/videos\"\n",
    "url_search = urlopen(youtube_search)\n",
    "youtube_page = url_search.read()\n",
    "youtube_html = bs(youtube_page, \"html.parser\")\n",
    "youtube_html.findAll('div', {'id':'contents'})"
   ]
  },
  {
   "cell_type": "markdown",
   "id": "ddeede10-2a2b-4422-ba58-28f37fab44ad",
   "metadata": {},
   "source": [
    "Q2. Write a python program to extract the URL of the video thumbnails of the first five videos."
   ]
  },
  {
   "cell_type": "code",
   "execution_count": 4,
   "id": "6096c021-6148-483c-bcc1-2ec452f82d77",
   "metadata": {},
   "outputs": [],
   "source": [
    "import requests\n",
    "from bs4 import BeautifulSoup\n",
    "\n",
    "url = \"https://www.youtube.com/@PW-Foundation/videos\"\n",
    "\n",
    "response = requests.get(url)\n",
    "\n",
    "soup = BeautifulSoup(response.content, \"html.parser\")\n",
    "\n",
    "video_thumbnails = soup.find_all(\"img\", {\"class\": \"CLASS_OF_VIDEO_THUMBNAILS\"})\n",
    "\n",
    "for i, thumbnail in enumerate(video_thumbnails[:5], 1):\n",
    "    thumbnail_url = thumbnail[\"src\"]\n",
    "    print(f\"URL of video thumbnail {i}: {thumbnail_url}\")\n"
   ]
  },
  {
   "cell_type": "markdown",
   "id": "6e58126d-6b5c-4bce-8a66-155844690605",
   "metadata": {},
   "source": [
    "Q3. Write a python program to extract the title of the first five videos."
   ]
  },
  {
   "cell_type": "code",
   "execution_count": 5,
   "id": "93a31fb1-2162-4329-905d-673fa3ff6aab",
   "metadata": {},
   "outputs": [],
   "source": [
    "import requests\n",
    "from bs4 import BeautifulSoup\n",
    "url = \"https://www.youtube.com/@PW-Foundation/videos\"\n",
    "\n",
    "response = requests.get(url)\n",
    "soup = BeautifulSoup(response.content, \"html.parser\")\n",
    "\n",
    "video_titles = soup.find_all(\"h3\", {\"class\": \"CLASS_OF_VIDEO_TITLES\"})\n",
    "\n",
    "for i, title in enumerate(video_titles[:5], 1):\n",
    "    video_title = title.get_text().strip()\n",
    "    print(f\"Title of video {i}: {video_title}\")\n"
   ]
  },
  {
   "cell_type": "markdown",
   "id": "536198fe-d8c9-446d-9b6d-498f72ee63a7",
   "metadata": {},
   "source": [
    "Q4. Write a python program to extract the number of views of the first five videos."
   ]
  },
  {
   "cell_type": "code",
   "execution_count": 6,
   "id": "18d7aafb-321e-46a6-8153-f25f91bee122",
   "metadata": {},
   "outputs": [],
   "source": [
    "import requests\n",
    "from bs4 import BeautifulSoup\n",
    "\n",
    "url = \"https://www.youtube.com/@PW-Foundation/videos\"\n",
    "\n",
    "response = requests.get(url)\n",
    "\n",
    "soup = BeautifulSoup(response.content, \"html.parser\")\n",
    "\n",
    "video_views = soup.find_all(\"span\", {\"class\": \"CLASS_OF_VIDEO_VIEWS\"})\n",
    "\n",
    "for i, view in enumerate(video_views[:5], 1):\n",
    "    view_count = view.get_text().strip()\n",
    "    print(f\"Number of views for video {i}: {view_count}\")\n"
   ]
  },
  {
   "cell_type": "markdown",
   "id": "f9a863d9-409f-4dde-ab7c-bc84e48a0ccb",
   "metadata": {},
   "source": [
    "Q5. Write a python program to extract the time of posting of video for the first five videos."
   ]
  },
  {
   "cell_type": "code",
   "execution_count": 7,
   "id": "e31f0d97-50d5-42f3-a01a-17559cb252da",
   "metadata": {},
   "outputs": [],
   "source": [
    "import requests\n",
    "from bs4 import BeautifulSoup\n",
    "\n",
    "url = \"https://www.youtube.com/@PW-Foundation/videos\"\n",
    "\n",
    "response = requests.get(url)\n",
    "\n",
    "soup = BeautifulSoup(response.content, \"html.parser\")\n",
    "\n",
    "video_posting_times = soup.find_all(\"span\", {\"class\": \"CLASS_OF_VIDEO_POSTING_TIME\"})\n",
    "\n",
    "for i, posting_time in enumerate(video_posting_times[:5], 1):\n",
    "    time = posting_time.get_text().strip()\n",
    "    print(f\"Posting time of video {i}: {time}\")\n"
   ]
  },
  {
   "cell_type": "code",
   "execution_count": null,
   "id": "653ff0d3-36e8-4e6f-9a69-82981ef1c815",
   "metadata": {},
   "outputs": [],
   "source": []
  },
  {
   "cell_type": "code",
   "execution_count": null,
   "id": "8369bccb-a6fb-4367-ba83-0b8cc2e1b81b",
   "metadata": {},
   "outputs": [],
   "source": []
  }
 ],
 "metadata": {
  "kernelspec": {
   "display_name": "Python 3 (ipykernel)",
   "language": "python",
   "name": "python3"
  },
  "language_info": {
   "codemirror_mode": {
    "name": "ipython",
    "version": 3
   },
   "file_extension": ".py",
   "mimetype": "text/x-python",
   "name": "python",
   "nbconvert_exporter": "python",
   "pygments_lexer": "ipython3",
   "version": "3.10.8"
  }
 },
 "nbformat": 4,
 "nbformat_minor": 5
}
