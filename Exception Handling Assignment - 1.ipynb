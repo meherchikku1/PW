{
 "cells": [
  {
   "cell_type": "markdown",
   "id": "6e6956d9-d05d-4f8d-9793-3f1d5b14085f",
   "metadata": {},
   "source": [
    "Q1. What is an Exception in Python? Write the difference between Exceptions and Syntax errors."
   ]
  },
  {
   "cell_type": "markdown",
   "id": "32316a06-4fd6-41f9-8595-a56a58e2ab03",
   "metadata": {},
   "source": [
    "ans:\n",
    "*In Python, Exception is an event that occurs during the execution of a program that disrupts the normal flow of instructions.\n",
    "\n",
    "*Errors mostly occur at runtime that's they belong to an unchecked type. Exceptions are the problems which can occur at runtime and compile time."
   ]
  },
  {
   "cell_type": "code",
   "execution_count": null,
   "id": "e88c2613-9338-4229-b878-594ed2805007",
   "metadata": {},
   "outputs": [],
   "source": []
  },
  {
   "cell_type": "markdown",
   "id": "a102f2e6-4475-43be-aeef-1d9a0d3bf402",
   "metadata": {},
   "source": [
    "Q2. What happens when an exception is not handled? Explain with an example."
   ]
  },
  {
   "cell_type": "markdown",
   "id": "715ad63a-00a4-4b9e-bc6a-6c85d7a25c35",
   "metadata": {},
   "source": [
    "ans:\n",
    "    when an exception is not handled the program will terminates abruptly and the code past the line that caused the exception will not executed."
   ]
  },
  {
   "cell_type": "code",
   "execution_count": 1,
   "id": "d932227e-21d9-4825-b787-1d31b41d4f70",
   "metadata": {},
   "outputs": [
    {
     "ename": "ZeroDivisionError",
     "evalue": "division by zero",
     "output_type": "error",
     "traceback": [
      "\u001b[0;31m---------------------------------------------------------------------------\u001b[0m",
      "\u001b[0;31mZeroDivisionError\u001b[0m                         Traceback (most recent call last)",
      "Cell \u001b[0;32mIn[1], line 3\u001b[0m\n\u001b[1;32m      1\u001b[0m \u001b[38;5;66;03m#example:\u001b[39;00m\n\u001b[1;32m      2\u001b[0m \u001b[38;5;28;01mtry\u001b[39;00m:\n\u001b[0;32m----> 3\u001b[0m     a\u001b[38;5;241m=\u001b[39m\u001b[38;5;241;43m10\u001b[39;49m\u001b[38;5;241;43m/\u001b[39;49m\u001b[38;5;241;43m0\u001b[39;49m\n\u001b[1;32m      5\u001b[0m \u001b[38;5;28;01mexcept\u001b[39;00m \u001b[38;5;167;01mValueError\u001b[39;00m \u001b[38;5;28;01mas\u001b[39;00m e:\n\u001b[1;32m      6\u001b[0m     \u001b[38;5;28mprint\u001b[39m(e)\n",
      "\u001b[0;31mZeroDivisionError\u001b[0m: division by zero"
     ]
    }
   ],
   "source": [
    "#example:\n",
    "try:\n",
    "    a=10/0\n",
    "    \n",
    "except ValueError as e:\n",
    "    print(e)\n",
    "    "
   ]
  },
  {
   "cell_type": "code",
   "execution_count": 1,
   "id": "cbe95cb9-f16f-41e8-9bec-759487c019ec",
   "metadata": {},
   "outputs": [],
   "source": [
    "#here we divided 10 by zero so it will show zeroDivision Error but we have called value error in this case."
   ]
  },
  {
   "cell_type": "code",
   "execution_count": null,
   "id": "b44e5477-eab3-4a95-81e9-945dd20fb540",
   "metadata": {},
   "outputs": [],
   "source": []
  },
  {
   "cell_type": "markdown",
   "id": "f16f7899-2adc-4ff3-a1a8-f8a857363835",
   "metadata": {},
   "source": [
    "Q3. Which Python statements are used to catch and handle exceptions? Explain with an example."
   ]
  },
  {
   "cell_type": "code",
   "execution_count": 2,
   "id": "32c6add5-1534-45a1-8681-1f105bc97186",
   "metadata": {},
   "outputs": [
    {
     "name": "stdout",
     "output_type": "stream",
     "text": [
      "division by zero\n"
     ]
    }
   ],
   "source": [
    "#In Python, the try and except statements are used to catch and handle exceptions.\n",
    "\n",
    "#example:\n",
    "try:\n",
    "    a=10/0\n",
    "    \n",
    "except ZeroDivisionError as e:\n",
    "    print(e)\n"
   ]
  },
  {
   "cell_type": "code",
   "execution_count": null,
   "id": "be56359a-8540-4cff-b1bc-ee6aef3c6f8e",
   "metadata": {},
   "outputs": [],
   "source": []
  },
  {
   "cell_type": "markdown",
   "id": "8dc6f9c2-f4cf-4e7a-ac3c-3ad317b84132",
   "metadata": {},
   "source": [
    "Q4. Explain with an example:\n",
    "#try and else\n",
    "#finlly\n",
    "#raise"
   ]
  },
  {
   "cell_type": "code",
   "execution_count": null,
   "id": "27530ba9-0aa0-4420-a35d-205066703c51",
   "metadata": {},
   "outputs": [],
   "source": [
    "#try and else:"
   ]
  },
  {
   "cell_type": "code",
   "execution_count": 7,
   "id": "cfda1e11-9cca-410c-b761-2a72149fcd30",
   "metadata": {},
   "outputs": [
    {
     "name": "stdout",
     "output_type": "stream",
     "text": [
      "Cannot divide by zero!\n"
     ]
    }
   ],
   "source": [
    "#\"try\" statement is used to enclose a block of code that might raise exceptions and \n",
    "# \"else\" block execute code when there is no error.\n",
    "\n",
    "try:\n",
    "        result = 20/0\n",
    "except ZeroDivisionError:\n",
    "        print(\"Cannot divide by zero!\")\n",
    "else:\n",
    "        print(\"Division successful:\", result)"
   ]
  },
  {
   "cell_type": "code",
   "execution_count": 8,
   "id": "5b3a655f-c9d9-42a2-bcdf-f5ad55f9d15a",
   "metadata": {},
   "outputs": [
    {
     "name": "stdout",
     "output_type": "stream",
     "text": [
      "Division successful: 10.0\n"
     ]
    }
   ],
   "source": [
    "try:\n",
    "        result = 20/2\n",
    "except ZeroDivisionError:\n",
    "        print(\"Cannot divide by zero!\")\n",
    "else:\n",
    "        print(\"Division successful:\", result)"
   ]
  },
  {
   "cell_type": "code",
   "execution_count": null,
   "id": "170e7b45-a664-49c1-859d-64d3b7c22b87",
   "metadata": {},
   "outputs": [],
   "source": []
  },
  {
   "cell_type": "code",
   "execution_count": 9,
   "id": "c209061c-fd5f-42ba-a16d-a0b58c878c74",
   "metadata": {},
   "outputs": [],
   "source": [
    "#finally:"
   ]
  },
  {
   "cell_type": "code",
   "execution_count": 10,
   "id": "26392e1b-fe84-49af-aaae-8e6d95983d53",
   "metadata": {},
   "outputs": [],
   "source": [
    "#The finally block will be executed no matter if the try block raises an error or not."
   ]
  },
  {
   "cell_type": "code",
   "execution_count": 13,
   "id": "82fd5760-52a1-4458-8c7b-9dba0df6a337",
   "metadata": {},
   "outputs": [
    {
     "name": "stdout",
     "output_type": "stream",
     "text": [
      "my name is sandeep meher\n"
     ]
    }
   ],
   "source": [
    "try:\n",
    "    f=open(\"test.txt\" , \"w\")\n",
    "    f.write(\"what is your name??\")\n",
    "\n",
    "finally:\n",
    "    print(\"my name is sandeep meher\")"
   ]
  },
  {
   "cell_type": "code",
   "execution_count": null,
   "id": "5eb547a7-464d-4da1-a6d1-b559db65c067",
   "metadata": {},
   "outputs": [],
   "source": []
  },
  {
   "cell_type": "code",
   "execution_count": 14,
   "id": "f5f4de5a-2771-44e5-bc16-447dd1983483",
   "metadata": {},
   "outputs": [],
   "source": [
    "#raise:"
   ]
  },
  {
   "cell_type": "code",
   "execution_count": 15,
   "id": "6a4716e0-7a91-4e2b-8b83-984d91420caa",
   "metadata": {},
   "outputs": [],
   "source": [
    "#The raise keyword raises an error and stops the control flow of the program."
   ]
  },
  {
   "cell_type": "code",
   "execution_count": 18,
   "id": "7b5089e5-577c-4a2f-89f5-0dd79d8d6870",
   "metadata": {},
   "outputs": [
    {
     "name": "stdin",
     "output_type": "stream",
     "text": [
      "Enter your age:  20\n"
     ]
    },
    {
     "name": "stdout",
     "output_type": "stream",
     "text": [
      "valid age\n"
     ]
    }
   ],
   "source": [
    "def validate_age(age):\n",
    "    if age < 0:\n",
    "        raise ValueError(\"Age cannot be negative\")\n",
    "    elif age >150:\n",
    "        raise ValueError(\"entered age is so high\")\n",
    "    else:\n",
    "        print(\"valid age\")\n",
    "\n",
    "try:\n",
    "    user_age = int(input(\"Enter your age: \"))\n",
    "    validate_age(user_age)\n",
    "except ValueError as e:\n",
    "    print(e)"
   ]
  },
  {
   "cell_type": "code",
   "execution_count": null,
   "id": "f5f368b3-f564-4b11-8bbb-91a8495447b9",
   "metadata": {},
   "outputs": [],
   "source": []
  },
  {
   "cell_type": "markdown",
   "id": "da7e75fc-25a9-4477-900d-af1063ff74a9",
   "metadata": {},
   "source": [
    "Q5. What are Custom Exceptions in python? When do we need Custom Exceptions? Explain with an example."
   ]
  },
  {
   "cell_type": "markdown",
   "id": "0ac783e5-f412-4894-83b2-9d0a646d4bb6",
   "metadata": {},
   "source": [
    "ans:\n",
    "#Custom exceptions in Python are user-defined exception classes that we create to represent specific error conditions or exceptional cases in our code."
   ]
  },
  {
   "cell_type": "code",
   "execution_count": 19,
   "id": "fcfc866b-0549-415f-8459-d6e7394a48f0",
   "metadata": {},
   "outputs": [
    {
     "name": "stdout",
     "output_type": "stream",
     "text": [
      "Error: Not enough balance (100) to withdraw 150\n"
     ]
    }
   ],
   "source": [
    "class NotEnoughBalanceError(Exception):\n",
    "    def __init__(self, balance, amount):\n",
    "        self.balance = balance\n",
    "        self.amount = amount\n",
    "        self.message = f\"Not enough balance ({balance}) to withdraw {amount}\"\n",
    "\n",
    "def withdraw_from_account(balance, amount):\n",
    "    if balance < amount:\n",
    "        raise NotEnoughBalanceError(balance, amount)\n",
    "    else:\n",
    "        print(f\"Withdrawing {amount} from the account\")\n",
    "\n",
    "try:\n",
    "    account_balance = 100\n",
    "    withdrawal_amount = 150\n",
    "    withdraw_from_account(account_balance, withdrawal_amount)\n",
    "except NotEnoughBalanceError as e:\n",
    "    print(\"Error:\", e.message)"
   ]
  },
  {
   "cell_type": "code",
   "execution_count": null,
   "id": "9fe58e1a-e122-49e2-b66d-d463ec2d83c9",
   "metadata": {},
   "outputs": [],
   "source": []
  },
  {
   "cell_type": "markdown",
   "id": "7d8eb248-3599-4aaf-8728-6feaeb4cd587",
   "metadata": {},
   "source": [
    "Q6. Create a custom exception class. Use this class to handle exception."
   ]
  },
  {
   "cell_type": "code",
   "execution_count": 2,
   "id": "3628d103-941f-421e-82c1-5034dfceeb4a",
   "metadata": {},
   "outputs": [
    {
     "name": "stdout",
     "output_type": "stream",
     "text": [
      "Error: The list is emptyyyy.\n"
     ]
    }
   ],
   "source": [
    "class EmptyListError(Exception):\n",
    "    def __init__(self, message=\"The list is empty\"):\n",
    "        self.message = message\n",
    "        super().__init__(self.message)\n",
    "\n",
    "def get_first_element(input_list):\n",
    "    if not input_list:\n",
    "        raise EmptyListError(\"The list is emptyyyy.\")\n",
    "    return input_list[0]\n",
    "\n",
    "try:\n",
    "    my_list = []\n",
    "    first_element = get_first_element(my_list)\n",
    "    print(\"First Element:\", first_element)\n",
    "except EmptyListError as ele:\n",
    "    print(\"Error:\", ele)\n"
   ]
  },
  {
   "cell_type": "code",
   "execution_count": null,
   "id": "6ff1fee0-d312-4603-9a83-15e7a33b0e46",
   "metadata": {},
   "outputs": [],
   "source": []
  }
 ],
 "metadata": {
  "kernelspec": {
   "display_name": "Python 3 (ipykernel)",
   "language": "python",
   "name": "python3"
  },
  "language_info": {
   "codemirror_mode": {
    "name": "ipython",
    "version": 3
   },
   "file_extension": ".py",
   "mimetype": "text/x-python",
   "name": "python",
   "nbconvert_exporter": "python",
   "pygments_lexer": "ipython3",
   "version": "3.10.8"
  }
 },
 "nbformat": 4,
 "nbformat_minor": 5
}
