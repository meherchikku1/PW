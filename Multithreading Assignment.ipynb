{
 "cells": [
  {
   "cell_type": "markdown",
   "id": "1e3eedfe-9f95-44b7-8315-99300d5a7c35",
   "metadata": {},
   "source": [
    "Q1. what is multithreading in python? why is it used? Name the module used to handle threads in python."
   ]
  },
  {
   "cell_type": "markdown",
   "id": "6c5914ba-273b-40af-9206-4198f4526f88",
   "metadata": {},
   "source": [
    "* Multithreading is the ability of a processor to execute multiple threads concurrently."
   ]
  },
  {
   "cell_type": "markdown",
   "id": "d0731305-468f-43f3-bf68-d788ae066ca8",
   "metadata": {},
   "source": [
    "* We use multithreading because enables efficient utilization of the resources as the threads share the data space   and memory. Also it perform tasks concurrently and improve the efficiency of programs. "
   ]
  },
  {
   "cell_type": "markdown",
   "id": "33fa7231-9620-49c2-8d7f-f8fe7ab639d8",
   "metadata": {},
   "source": [
    "* Threading Module is used to handle threads in Python."
   ]
  },
  {
   "cell_type": "code",
   "execution_count": null,
   "id": "71a156d1-f048-4684-a43d-e95eacfe49df",
   "metadata": {},
   "outputs": [],
   "source": []
  },
  {
   "cell_type": "markdown",
   "id": "8058919c-d273-4c1d-b254-f2c97ad53d47",
   "metadata": {},
   "source": [
    "Q2. Why threading module used? Write the use of the following functions:\n",
    " 1. activeCount\n",
    " 2. currentThread\n",
    " 3. enumerate"
   ]
  },
  {
   "cell_type": "markdown",
   "id": "5de2a91a-18c2-4a2d-bce6-0bbc15ea95d4",
   "metadata": {},
   "source": [
    "ans:\n",
    "    *Threading module is used for creating, controlling and managing threads in a single process."
   ]
  },
  {
   "cell_type": "markdown",
   "id": "899b7faf-e869-4d87-bb3e-e3d4b84addbb",
   "metadata": {},
   "source": [
    "1. activeCount : i.e. used to determine the number of Thread objects currently alive\n",
    "2. currentThread: i.e. used to return the current Thread object, corresponding to the caller's thread of control.\n",
    "3. enumarate: it adds a counter to an iterable and returns it in a form of enumerating object."
   ]
  },
  {
   "cell_type": "code",
   "execution_count": null,
   "id": "306f7f6a-637b-41df-a058-a044091c6025",
   "metadata": {},
   "outputs": [],
   "source": []
  },
  {
   "cell_type": "markdown",
   "id": "791fd4f7-1516-437c-a2bf-07669a49840f",
   "metadata": {},
   "source": [
    "Q3. Explain the following functions\n",
    " 1. run()\n",
    " 2. start()\n",
    " 3. join()\n",
    " 4. isAlive()"
   ]
  },
  {
   "cell_type": "markdown",
   "id": "5a50b646-e50a-412a-8384-34cffe351341",
   "metadata": {},
   "source": [
    "ans:\n",
    "\n",
    "1. run() :  run() method executes any target function belonging to a given thread object that is now active.\n",
    "2. start(): it invokes the run() method in a separate thread of control.\n",
    "3. join(): i.e. used to join all the elements from the iterable and create a string and return it as an output to               the user.\n",
    "\n",
    " 4.isAlive(): i.e. used to check whether a thread is still executing or not."
   ]
  },
  {
   "cell_type": "code",
   "execution_count": null,
   "id": "6709954a-be90-45a4-a768-1559fdc13c7b",
   "metadata": {},
   "outputs": [],
   "source": []
  },
  {
   "cell_type": "markdown",
   "id": "39479f1e-c751-4a46-a81c-abb50e9c9a85",
   "metadata": {},
   "source": [
    "Q4. Write a python program to create two threads. Thread one must print the list of squares and thread\n",
    "    two must print the list of cubes"
   ]
  },
  {
   "cell_type": "code",
   "execution_count": 11,
   "id": "8cd2c623-38db-4db0-94ac-f6b4029e37f8",
   "metadata": {},
   "outputs": [],
   "source": [
    "import threading\n",
    "\n",
    "def print_squares():\n",
    "    for i in range(1,6):\n",
    "        print(\"Square of\", i, \":\", i ** 2)\n",
    "        \n",
    "def print_cubes():\n",
    "    for j in range(1,6):\n",
    "        print(\"Cube of\", j, \":\", j ** 3)\n",
    "        \n",
    "thread1 = threading.Thread(target=print_squares)\n",
    "thread2 = threading.Thread(target=print_cubes)\n",
    "\n",
    "    "
   ]
  },
  {
   "cell_type": "code",
   "execution_count": 12,
   "id": "18b80baf-6f83-4a8f-bfc6-ce7766966ec2",
   "metadata": {},
   "outputs": [
    {
     "name": "stdout",
     "output_type": "stream",
     "text": [
      "Square of 1 : 1\n",
      "Square of 2 : 4\n",
      "Square of 3 : 9\n",
      "Square of 4 : 16\n",
      "Square of 5 : 25\n"
     ]
    }
   ],
   "source": [
    "thread1.start()"
   ]
  },
  {
   "cell_type": "code",
   "execution_count": 13,
   "id": "bc35dbce-9188-41ab-bab5-0fdc2d340014",
   "metadata": {},
   "outputs": [
    {
     "name": "stdout",
     "output_type": "stream",
     "text": [
      "Cube of 1 : 1\n",
      "Cube of 2 : 8\n",
      "Cube of 3 : 27\n",
      "Cube of 4 : 64\n",
      "Cube of 5 : 125\n"
     ]
    }
   ],
   "source": [
    "thread2.start()"
   ]
  },
  {
   "cell_type": "code",
   "execution_count": null,
   "id": "140acd8d-9ac0-437c-a45f-9019e8a975b5",
   "metadata": {},
   "outputs": [],
   "source": []
  },
  {
   "cell_type": "markdown",
   "id": "545e37b0-6e0a-4e47-8dee-e0ab6c80a58c",
   "metadata": {},
   "source": [
    "Q5. State advantages and disadvantages of multithreading."
   ]
  },
  {
   "cell_type": "markdown",
   "id": "9726c1c5-9c70-4a0a-8235-0510e2c2021a",
   "metadata": {},
   "source": [
    "* Advantages:\n",
    " Multithreading allows the program to perform multiple tasks inside the same address space.\n",
    " Also it helps in concurrency, responsive UIs, efficient resource sharing, parallelism, simplified code, faster       I/O, and lightweight execution for tasks that benefit from concurrent execution.\n",
    "\n",
    "* Disadvantages:\n",
    "i. Difficulty of debugging.\n",
    "ii. Difficulty of managing concurrency.\n",
    "iii. Difficulty of writing code.\n",
    "\n"
   ]
  },
  {
   "cell_type": "code",
   "execution_count": null,
   "id": "f701e989-9828-432f-bfc1-4413d498b920",
   "metadata": {},
   "outputs": [],
   "source": []
  },
  {
   "cell_type": "markdown",
   "id": "5283cabb-4d72-4e89-a3ff-9138cccff5d1",
   "metadata": {},
   "source": [
    "Q6. Explain deadlocks and race conditions."
   ]
  },
  {
   "cell_type": "markdown",
   "id": "d00fb4b5-3ca5-4ab2-a307-556e4c1756bc",
   "metadata": {},
   "source": [
    "ans:\n",
    "* Deadlocks is a situation in which two or more transactions are waiting for one another to give up locks.\n",
    "* Race condition is when two threads access a shared variable at the same time. The first thread reads the            variable, and the second thread reads the same value from the variable."
   ]
  },
  {
   "cell_type": "code",
   "execution_count": null,
   "id": "96f881a6-8a1f-43d8-a379-dbb1b47c2291",
   "metadata": {},
   "outputs": [],
   "source": []
  }
 ],
 "metadata": {
  "kernelspec": {
   "display_name": "Python 3 (ipykernel)",
   "language": "python",
   "name": "python3"
  },
  "language_info": {
   "codemirror_mode": {
    "name": "ipython",
    "version": 3
   },
   "file_extension": ".py",
   "mimetype": "text/x-python",
   "name": "python",
   "nbconvert_exporter": "python",
   "pygments_lexer": "ipython3",
   "version": "3.10.8"
  }
 },
 "nbformat": 4,
 "nbformat_minor": 5
}
