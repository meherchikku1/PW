{
 "cells": [
  {
   "cell_type": "markdown",
   "id": "ad7567dc-2c77-45c5-86cf-30da82635836",
   "metadata": {},
   "source": [
    "Q1. What is a database? Differentiate between SQL and NoSQL databases."
   ]
  },
  {
   "cell_type": "markdown",
   "id": "e5dd14b4-4227-4ddf-88ff-8d44f59efa3a",
   "metadata": {},
   "source": [
    "Ans: A database is a structured collection of data organized for efficient storage, retrieval, and management, typically using tables and relationships, essential for applications to store and access information.\n",
    "\n",
    "Difference between SQL and NoSQL database are: \n",
    "#SQL databases are relational, use fixed schemas, employ SQL for queries, and are ACID-compliant, ideal for structured data\n",
    "#NoSQL databases vary in data models, often have flexible schemas, use diverse query languages, offer different consistency models, and are best suited for dynamic, unstructured data and scalable, distributed applications.\n"
   ]
  },
  {
   "cell_type": "code",
   "execution_count": null,
   "id": "3d9cf40b-516b-45f3-965c-a76bcd30463d",
   "metadata": {},
   "outputs": [],
   "source": []
  },
  {
   "cell_type": "markdown",
   "id": "6cb51a64-ff48-4782-810d-d817e5db391d",
   "metadata": {},
   "source": [
    "Q2. What is DDL? Explain why CREATE, DROP, ALTER, and TRUNCATE are used with an example."
   ]
  },
  {
   "cell_type": "markdown",
   "id": "0ac96108-a609-4873-993b-da21cad5138c",
   "metadata": {},
   "source": [
    "Ans: DDL stands for Data Definition Language, which is a subset of SQL used to define, modify, and manage the structure of a database. "
   ]
  },
  {
   "cell_type": "markdown",
   "id": "75afc2a0-1ae2-406c-8a6f-2a8e06a1ffec",
   "metadata": {},
   "source": [
    "i. CREATE: The CREATE command is used to create new database objects, such as tables, indexes, views, or schemas. It specifies the structure of the object, including the column names and data types."
   ]
  },
  {
   "cell_type": "markdown",
   "id": "fd8469a3-8e0a-4cdc-8cd6-208d26681d59",
   "metadata": {},
   "source": [
    "example:\n",
    "    CREATE TABLE Employees (\n",
    "    EmployeeID INT PRIMARY KEY,\n",
    "    FirstName VARCHAR(50),\n",
    "    LastName VARCHAR(50),\n",
    "    Department VARCHAR(50)\n",
    "    );"
   ]
  },
  {
   "cell_type": "markdown",
   "id": "31c59511-0a9d-4c4f-87f8-836933a896d9",
   "metadata": {},
   "source": [
    "ii. DROP: It is used to delete existing database objects, such as tables, indexes, or views, along with all associated data."
   ]
  },
  {
   "cell_type": "markdown",
   "id": "02502d3e-6595-4fe9-8fe8-d037c23524c8",
   "metadata": {},
   "source": [
    "example: DROP TABLE Employees;"
   ]
  },
  {
   "cell_type": "markdown",
   "id": "1c04f5e4-e967-495a-825f-dc4721e0d920",
   "metadata": {},
   "source": [
    "iii. ALTER: The ALTER command is used to modify the structure of an existing database object, such as adding, modifying, or deleting columns in a table."
   ]
  },
  {
   "cell_type": "markdown",
   "id": "f4da28da-11ad-4ad4-b2e7-778651aad0ac",
   "metadata": {},
   "source": [
    "example: \n",
    "\n",
    "ALTER TABLE Employees\n",
    "\n",
    "ADD Email VARCHAR(100);"
   ]
  },
  {
   "cell_type": "markdown",
   "id": "b547e82c-9bb5-4307-baac-312942a69298",
   "metadata": {},
   "source": [
    "iv. TRUNCATE: The TRUNCATE command is used to remove all rows from a table while keeping the table structure intact. It's faster and more efficient than the DELETE statement when you want to delete all records from a table.\n",
    "\n",
    "example: TRUNCATE TABLE Employees;\n"
   ]
  },
  {
   "cell_type": "code",
   "execution_count": null,
   "id": "f77bac2c-9a52-41a2-9640-bd43f7ae946a",
   "metadata": {},
   "outputs": [],
   "source": []
  },
  {
   "cell_type": "markdown",
   "id": "46b7f53f-9376-4e63-9b50-f197d0e00016",
   "metadata": {},
   "source": [
    "Q3. What is DML? Explain INSERT, UPDATE, and DELETE with an example."
   ]
  },
  {
   "cell_type": "markdown",
   "id": "c29112c7-829b-4119-ad45-58d75c3fc831",
   "metadata": {},
   "source": [
    "DML stands for Data Manipulation Language, which is a subset of SQL used to interact with and manipulate data stored in a database."
   ]
  },
  {
   "cell_type": "markdown",
   "id": "d9a85556-a315-4b50-8093-e9beda812d94",
   "metadata": {},
   "source": [
    "*INSERT: The INSERT command is used to add new records (rows) into a database table. You specify the values for each column in the table for the new row.\n",
    "\n",
    "eg: INSERT INTO Employees (EmployeeID, FirstName, LastName, Department)\n",
    "\n",
    "VALUES (101, 'John', 'Dog', 'HR');"
   ]
  },
  {
   "cell_type": "markdown",
   "id": "9e5634e1-8ade-4555-9776-2d277b8843bb",
   "metadata": {},
   "source": [
    "*UPDATE: The UPDATE command is used to modify existing data in a database table. You specify the table to update, the columns to change, and the new values for those columns.\n",
    "\n",
    "eg: UPDATE Employees\n",
    "\n",
    "SET Department = 'Finance'\n",
    "\n",
    "WHERE EmployeeID = 101;"
   ]
  },
  {
   "cell_type": "markdown",
   "id": "254d6bcd-5caa-48e6-9be2-fad5f3db0aa0",
   "metadata": {},
   "source": [
    "*DELETE: The DELETE command is used to remove rows from a database table based on a specified condition. It allows you to selectively delete data.\n",
    "\n",
    "eg: DELETE FROM Employees\n",
    "\n",
    "WHERE EmployeeID = 101;"
   ]
  },
  {
   "cell_type": "code",
   "execution_count": null,
   "id": "f948cbe5-54dc-44b8-98fa-2a281415ac1c",
   "metadata": {},
   "outputs": [],
   "source": []
  },
  {
   "cell_type": "markdown",
   "id": "a94a6054-86dd-42c4-909b-dff213a434ba",
   "metadata": {},
   "source": [
    "Q4. What is DQL? Explain SELECT with an example."
   ]
  },
  {
   "cell_type": "markdown",
   "id": "709a5df2-fe32-4010-9f37-75aea9f0b078",
   "metadata": {},
   "source": [
    "DQL stands for Data Query Language, which is a subset of SQL used for querying and retrieving data from a database."
   ]
  },
  {
   "cell_type": "markdown",
   "id": "7e3ffe95-849b-4e53-8c8a-a692d6a4bbb8",
   "metadata": {},
   "source": [
    "SELECT: The SELECT statement is used to retrieve data from one or more tables in a database. It allows you to specify which columns you want to retrieve and can include filtering and sorting criteria to tailor the results."
   ]
  },
  {
   "cell_type": "markdown",
   "id": "6a4a6850-cc4e-47f2-892b-806f5e96de0a",
   "metadata": {},
   "source": [
    "example: \n",
    "SELECT Name, Age\n",
    "\n",
    "FROM Students\n",
    "\n",
    "WHERE Department = 'Data Science';"
   ]
  },
  {
   "cell_type": "code",
   "execution_count": null,
   "id": "d57a5f6c-3044-47c0-be8d-23f8eb28bb16",
   "metadata": {},
   "outputs": [],
   "source": []
  },
  {
   "cell_type": "markdown",
   "id": "ddad928d-4be8-4cb2-96f5-5d6ac1bf7158",
   "metadata": {},
   "source": [
    "Q5. Explain Primary Key and Foreign Key."
   ]
  },
  {
   "cell_type": "markdown",
   "id": "5113829e-02bd-4f72-b912-d6b9cb4c20ab",
   "metadata": {},
   "source": [
    "*A Primary Key is a column or a set of columns in a database table that uniquely identifies each row in that table. It ensures that each record has a unique identifier."
   ]
  },
  {
   "cell_type": "markdown",
   "id": "5d146901-3d41-4e40-8471-16cb9b7206e1",
   "metadata": {},
   "source": [
    "*A Foreign Key is a column or a set of columns in one table that establishes a link or relationship between that table and another table's Primary Key."
   ]
  },
  {
   "cell_type": "code",
   "execution_count": null,
   "id": "7f3169de-0b9f-4be5-b16d-1e3f0e273bab",
   "metadata": {},
   "outputs": [],
   "source": []
  },
  {
   "cell_type": "markdown",
   "id": "e76ddc54-7f41-463a-ad6f-563a85b818e2",
   "metadata": {},
   "source": [
    "Q6. Write a python code to connect MySQL to python. Explain the cursor() and execute() method."
   ]
  },
  {
   "cell_type": "code",
   "execution_count": 12,
   "id": "85fe6810-8c41-4da7-961c-609a551160e6",
   "metadata": {},
   "outputs": [
    {
     "name": "stdout",
     "output_type": "stream",
     "text": [
      "Requirement already satisfied: mysql-connector-python in /opt/conda/lib/python3.10/site-packages (8.1.0)\n",
      "Requirement already satisfied: protobuf<=4.21.12,>=4.21.1 in /opt/conda/lib/python3.10/site-packages (from mysql-connector-python) (4.21.11)\n",
      "Note: you may need to restart the kernel to use updated packages.\n"
     ]
    }
   ],
   "source": [
    "pip install mysql-connector-python"
   ]
  },
  {
   "cell_type": "code",
   "execution_count": null,
   "id": "e6889f6a-cc1b-49d9-b96a-3831b8ec3949",
   "metadata": {},
   "outputs": [],
   "source": [
    "import mysql.connector\n",
    "mydb = mysql.connector.connect(\n",
    "  host=\"localhost\",\n",
    "  user=\"abc\",\n",
    "  password=\"password\"\n",
    ")\n",
    "mycursor = mydb.cursor()\n",
    "mycursor.execute(\"hii \")\n",
    "for i in mycursor.fetchall() : \n",
    "    print(i)\n",
    "mydb.close()"
   ]
  },
  {
   "cell_type": "code",
   "execution_count": null,
   "id": "4891063f-0b42-4593-9065-4b7b7ca3c881",
   "metadata": {},
   "outputs": [],
   "source": []
  },
  {
   "cell_type": "markdown",
   "id": "e5498a28-fbb8-4e3c-899c-1e16d9672274",
   "metadata": {},
   "source": [
    "Q7. Give the order of execution of SQL clauses in an SQL query."
   ]
  },
  {
   "cell_type": "markdown",
   "id": "6fdad261-e81e-4ac5-a093-62e906be42dd",
   "metadata": {},
   "source": [
    "1. FROM\n",
    "2. JOIN\n",
    "3. WHERE\n",
    "4. GROUP BY\n",
    "5. HAVING \n",
    "6. SELECT\n",
    "7. ORDER BY\n",
    "8. LIMIT/OFFSET"
   ]
  }
 ],
 "metadata": {
  "kernelspec": {
   "display_name": "Python 3 (ipykernel)",
   "language": "python",
   "name": "python3"
  },
  "language_info": {
   "codemirror_mode": {
    "name": "ipython",
    "version": 3
   },
   "file_extension": ".py",
   "mimetype": "text/x-python",
   "name": "python",
   "nbconvert_exporter": "python",
   "pygments_lexer": "ipython3",
   "version": "3.10.8"
  }
 },
 "nbformat": 4,
 "nbformat_minor": 5
}
