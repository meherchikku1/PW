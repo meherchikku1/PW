{
 "cells": [
  {
   "cell_type": "markdown",
   "id": "df0a8faa-63e3-4ef1-bf83-4d1ca4a7bc70",
   "metadata": {},
   "source": [
    "Q1. How do you comment code in Python? What are the different types of comments?"
   ]
  },
  {
   "cell_type": "markdown",
   "id": "94638c4c-3ecb-4bdc-8a38-90668b79e6c9",
   "metadata": {},
   "source": [
    " * we can comment code in python by using '#' symbol.\n",
    " \n",
    " Types of comments:\n",
    " i. Single line comment\n",
    " eg:"
   ]
  },
  {
   "cell_type": "code",
   "execution_count": 1,
   "id": "77cfc133-e3dd-46b1-9ef8-5d2c7a62070d",
   "metadata": {},
   "outputs": [],
   "source": [
    "#My Name is Sandeep Meher."
   ]
  },
  {
   "cell_type": "markdown",
   "id": "1421a609-aee6-40e9-8950-d8d1bf63f471",
   "metadata": {},
   "source": [
    "ii. Multiple line comment\n",
    "* Here we use \"\"\"......\"\"\" for comment out.\n",
    "eg:"
   ]
  },
  {
   "cell_type": "markdown",
   "id": "ed04ad50-7150-4ae5-8947-81609ad9b006",
   "metadata": {},
   "source": [
    "   \"\"\" input[type=\"text\"] {\n",
    "    width: 100%;\n",
    "    padding: 10px;\n",
    "    margin-bottom: 10px;\n",
    "    border: none;\n",
    "    background-color: #faf9f6;\n",
    "    border-radius: 5px; \"\"\""
   ]
  },
  {
   "cell_type": "code",
   "execution_count": null,
   "id": "698f74fe-b6da-417a-90b4-af0fac158265",
   "metadata": {},
   "outputs": [],
   "source": []
  },
  {
   "cell_type": "markdown",
   "id": "c3927e5a-4d73-4af0-adbc-e1b98d9d24a4",
   "metadata": {},
   "source": [
    "Q2. What are variables in Python? How do you declare and assign values to variables?"
   ]
  },
  {
   "cell_type": "markdown",
   "id": "c9109c8c-afbf-4ecc-b5d4-698244bbc8b5",
   "metadata": {},
   "source": [
    " Variables in python are used to store data. \n",
    " It Holds values of various types such as integer, float, string, boolean, lists, tuples, dictionaries,etc. \n",
    " \n",
    " Declaration and assign values:\n",
    " variable_name = value\n",
    " eg: name=\"sandeep\""
   ]
  },
  {
   "cell_type": "code",
   "execution_count": null,
   "id": "fff138a4-3cef-47ba-997e-bf83837744ff",
   "metadata": {},
   "outputs": [],
   "source": []
  },
  {
   "cell_type": "markdown",
   "id": "00e3cc60-57a2-4434-b07d-81fba339656e",
   "metadata": {},
   "source": [
    "Q3. How do you convert one data type to another in Python?"
   ]
  },
  {
   "cell_type": "code",
   "execution_count": 2,
   "id": "b6f190a1-1985-4e1e-98a5-cd9daf94bb32",
   "metadata": {},
   "outputs": [
    {
     "data": {
      "text/plain": [
       "100"
      ]
     },
     "execution_count": 2,
     "metadata": {},
     "output_type": "execute_result"
    }
   ],
   "source": [
    "#eg:\n",
    "a=\"100\"\n",
    "b=int(a)\n",
    "b"
   ]
  },
  {
   "cell_type": "code",
   "execution_count": 3,
   "id": "7ead4da3-4247-4606-ba11-8303d9b991c3",
   "metadata": {},
   "outputs": [
    {
     "data": {
      "text/plain": [
       "str"
      ]
     },
     "execution_count": 3,
     "metadata": {},
     "output_type": "execute_result"
    }
   ],
   "source": [
    "type(a)"
   ]
  },
  {
   "cell_type": "code",
   "execution_count": 4,
   "id": "151cb236-f760-40f8-bc17-493756e02588",
   "metadata": {},
   "outputs": [
    {
     "data": {
      "text/plain": [
       "int"
      ]
     },
     "execution_count": 4,
     "metadata": {},
     "output_type": "execute_result"
    }
   ],
   "source": [
    "type(b)"
   ]
  },
  {
   "cell_type": "code",
   "execution_count": 5,
   "id": "b2ba5bd3-288d-4f5a-bedb-f7d8809cef25",
   "metadata": {},
   "outputs": [
    {
     "data": {
      "text/plain": [
       "3.14"
      ]
     },
     "execution_count": 5,
     "metadata": {},
     "output_type": "execute_result"
    }
   ],
   "source": [
    "#eg:\n",
    "c=\"3.14\"\n",
    "d=float(c)\n",
    "d"
   ]
  },
  {
   "cell_type": "code",
   "execution_count": 6,
   "id": "9d26787d-c65f-40c8-a659-2eafc42f8ec1",
   "metadata": {},
   "outputs": [
    {
     "data": {
      "text/plain": [
       "(1, 2, 3, 4, 5)"
      ]
     },
     "execution_count": 6,
     "metadata": {},
     "output_type": "execute_result"
    }
   ],
   "source": [
    "#eg:\n",
    "l=[1,2,3,4,5]\n",
    "t=tuple(l)\n",
    "t"
   ]
  },
  {
   "cell_type": "code",
   "execution_count": null,
   "id": "22c5dbea-a417-4bdf-96d2-b23e855d78fc",
   "metadata": {},
   "outputs": [],
   "source": []
  },
  {
   "cell_type": "markdown",
   "id": "078f9aa0-c8b0-4106-b427-03e5b3452321",
   "metadata": {},
   "source": [
    "Q4. How do you write and execute a Python script from the command line?"
   ]
  },
  {
   "cell_type": "markdown",
   "id": "f5bbf86b-f700-42fb-81bf-586759c3de38",
   "metadata": {},
   "source": [
    "i.Open text editor\n",
    "ii.write python script and save it.\n",
    "iii. open command line\n",
    "iv.Navogate to script directory\n",
    "v. Run python script"
   ]
  },
  {
   "cell_type": "code",
   "execution_count": null,
   "id": "aa2901f2-2909-44da-be1a-0830d7c2759a",
   "metadata": {},
   "outputs": [],
   "source": []
  },
  {
   "cell_type": "markdown",
   "id": "8d05175f-255e-4359-8b26-d63e61408de9",
   "metadata": {},
   "source": [
    "Q5. Given a list my_list = [1, 2, 3, 4, 5], write the code to slice the list and obtain the sub-list [2, 3]."
   ]
  },
  {
   "cell_type": "code",
   "execution_count": 7,
   "id": "7d23e7b4-0a4d-42b3-ae5f-7ed3f1ae9c6d",
   "metadata": {},
   "outputs": [
    {
     "name": "stdout",
     "output_type": "stream",
     "text": [
      "[2, 3]\n"
     ]
    }
   ],
   "source": [
    "a=[1,2,3,4,5]\n",
    "print(a[1:3])"
   ]
  },
  {
   "cell_type": "code",
   "execution_count": null,
   "id": "36cb184a-34aa-479b-a30b-d174173dfef2",
   "metadata": {},
   "outputs": [],
   "source": []
  },
  {
   "cell_type": "markdown",
   "id": "15be165e-95b6-4bf7-a0e2-00a5a3d6e1f9",
   "metadata": {},
   "source": [
    "Q6. What is a complex number in mathematics, and how is it represented in Python?"
   ]
  },
  {
   "cell_type": "markdown",
   "id": "ed2288f7-6604-44b9-a914-4f023bb1d641",
   "metadata": {},
   "source": [
    "complex numbers in mathematics are made up of real numbers and imaginary numbers.\n",
    "eg: complex_number = a+bj.\n",
    "where a and b are real numbers and j is the imaginary number."
   ]
  },
  {
   "cell_type": "code",
   "execution_count": 8,
   "id": "7cde0c96-0ad8-44fd-a4c7-49fe8e3a233f",
   "metadata": {},
   "outputs": [
    {
     "data": {
      "text/plain": [
       "(5+10j)"
      ]
     },
     "execution_count": 8,
     "metadata": {},
     "output_type": "execute_result"
    }
   ],
   "source": [
    "a1=2+4j\n",
    "a2=3+6j\n",
    "a3=a1+a2\n",
    "a3"
   ]
  },
  {
   "cell_type": "code",
   "execution_count": 9,
   "id": "e2612a79-6deb-40c7-85a6-378bb2fbe06b",
   "metadata": {},
   "outputs": [
    {
     "data": {
      "text/plain": [
       "(2+3j)"
      ]
     },
     "execution_count": 9,
     "metadata": {},
     "output_type": "execute_result"
    }
   ],
   "source": [
    "#or\n",
    "a4=complex(2,3)\n",
    "a4"
   ]
  },
  {
   "cell_type": "code",
   "execution_count": null,
   "id": "2d845629-cafa-4cdf-ac64-615788b6a2aa",
   "metadata": {},
   "outputs": [],
   "source": []
  },
  {
   "cell_type": "markdown",
   "id": "9c5a5a80-2926-4984-8f9d-d572fb86274f",
   "metadata": {},
   "source": [
    "Q7. What is the correct way to declare a variable named age and assign the value 25 to it?"
   ]
  },
  {
   "cell_type": "code",
   "execution_count": 10,
   "id": "09c146af-cadb-44e2-9d36-e4df54388096",
   "metadata": {},
   "outputs": [
    {
     "data": {
      "text/plain": [
       "25"
      ]
     },
     "execution_count": 10,
     "metadata": {},
     "output_type": "execute_result"
    }
   ],
   "source": [
    "age=25\n",
    "age"
   ]
  },
  {
   "cell_type": "code",
   "execution_count": null,
   "id": "692fd1c3-ecfe-428b-93b8-f3c3f109afd7",
   "metadata": {},
   "outputs": [],
   "source": []
  },
  {
   "cell_type": "markdown",
   "id": "598a1753-56d8-4334-867a-ddb49c4a7009",
   "metadata": {},
   "source": [
    "Q8. Declare a variable named price and assign the value 9.99 to it. What data type does this variable\n",
    "belong to?"
   ]
  },
  {
   "cell_type": "code",
   "execution_count": 11,
   "id": "0c2193d7-709b-45ab-a6fc-0f03c26c0af5",
   "metadata": {},
   "outputs": [
    {
     "data": {
      "text/plain": [
       "float"
      ]
     },
     "execution_count": 11,
     "metadata": {},
     "output_type": "execute_result"
    }
   ],
   "source": [
    "price=9.99\n",
    "type(price)"
   ]
  },
  {
   "cell_type": "code",
   "execution_count": 12,
   "id": "dff0890b-ed0e-42cd-994f-6a7d2884e5d2",
   "metadata": {},
   "outputs": [],
   "source": [
    "#hence, price belong to float data type."
   ]
  },
  {
   "cell_type": "code",
   "execution_count": null,
   "id": "64815ce7-5793-477e-a4c9-24c72b338b49",
   "metadata": {},
   "outputs": [],
   "source": []
  },
  {
   "cell_type": "markdown",
   "id": "b7b1eeac-13ef-470d-ae76-c55380f869a5",
   "metadata": {},
   "source": [
    "Q9. Create a variable named name and assign your full name to it as a string. How would you print the\n",
    "value of this variable?"
   ]
  },
  {
   "cell_type": "code",
   "execution_count": 13,
   "id": "e04b722d-c0d3-4770-b576-1bdd3d19a84d",
   "metadata": {},
   "outputs": [
    {
     "name": "stdout",
     "output_type": "stream",
     "text": [
      "Sandeep Meher\n"
     ]
    }
   ],
   "source": [
    "name=\"Sandeep Meher\"\n",
    "print(name)"
   ]
  },
  {
   "cell_type": "code",
   "execution_count": null,
   "id": "8f5f5fdd-64c5-4649-ab93-cd447ebde1c8",
   "metadata": {},
   "outputs": [],
   "source": []
  },
  {
   "cell_type": "markdown",
   "id": "0b20f727-7536-4d9e-8c1a-812186a40c40",
   "metadata": {},
   "source": [
    "Q10. Given the string \"Hello, World!\", extract the substring \"World\"."
   ]
  },
  {
   "cell_type": "code",
   "execution_count": 14,
   "id": "7579df75-4036-4d8e-b2c4-c8304a1099c2",
   "metadata": {},
   "outputs": [
    {
     "data": {
      "text/plain": [
       "'World'"
      ]
     },
     "execution_count": 14,
     "metadata": {},
     "output_type": "execute_result"
    }
   ],
   "source": [
    "p=\"Hello, World!\"\n",
    "a=p[7:12]\n",
    "a"
   ]
  },
  {
   "cell_type": "code",
   "execution_count": null,
   "id": "d5c4fef7-b9f6-4ea1-8aac-0d37ef7e9fda",
   "metadata": {},
   "outputs": [],
   "source": []
  },
  {
   "cell_type": "markdown",
   "id": "ca772471-861e-4659-b855-f06e93f6c012",
   "metadata": {},
   "source": [
    "Q11. Create a variable named \"is_student\" and assign it a boolean value indicating whether you are\n",
    "currently a student or not."
   ]
  },
  {
   "cell_type": "code",
   "execution_count": 17,
   "id": "544231a1-7098-4147-a5c4-75d53582adcf",
   "metadata": {},
   "outputs": [
    {
     "data": {
      "text/plain": [
       "bool"
      ]
     },
     "execution_count": 17,
     "metadata": {},
     "output_type": "execute_result"
    }
   ],
   "source": [
    "is_student=True\n",
    "\n",
    "type(is_student)"
   ]
  },
  {
   "cell_type": "code",
   "execution_count": 18,
   "id": "fe2021ff-c24b-4e89-bb69-7bb21920a01c",
   "metadata": {},
   "outputs": [
    {
     "data": {
      "text/plain": [
       "bool"
      ]
     },
     "execution_count": 18,
     "metadata": {},
     "output_type": "execute_result"
    }
   ],
   "source": [
    "is_student=False\n",
    "type(is_student)"
   ]
  },
  {
   "cell_type": "code",
   "execution_count": null,
   "id": "fc98f7c6-8935-4b4e-89c2-8fba823e3887",
   "metadata": {},
   "outputs": [],
   "source": []
  }
 ],
 "metadata": {
  "kernelspec": {
   "display_name": "Python 3 (ipykernel)",
   "language": "python",
   "name": "python3"
  },
  "language_info": {
   "codemirror_mode": {
    "name": "ipython",
    "version": 3
   },
   "file_extension": ".py",
   "mimetype": "text/x-python",
   "name": "python",
   "nbconvert_exporter": "python",
   "pygments_lexer": "ipython3",
   "version": "3.10.8"
  }
 },
 "nbformat": 4,
 "nbformat_minor": 5
}
