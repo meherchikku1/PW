{
 "cells": [
  {
   "cell_type": "markdown",
   "id": "039ae85f-ee3d-47e1-bbcd-06c3c7537ec9",
   "metadata": {},
   "source": [
    "Q1, Create a vehicle class with an init method having instance variables as name_of_vehicle, max_speed\n",
    "and average_of_vehicle."
   ]
  },
  {
   "cell_type": "code",
   "execution_count": 1,
   "id": "4c029b97-a244-45ed-a197-e246e584ee92",
   "metadata": {},
   "outputs": [],
   "source": [
    "class vehicle:\n",
    "    def __init__(self, name_of_vehicle , max_speed , average_of_vehicle):\n",
    "        self.name_of_vehicle = name_of_vehicle\n",
    "        self.max_speed = max_speed\n",
    "        self.average_of_vehicle = average_of_vehicle\n",
    "        \n",
    "    def return_vehicle_details(self):\n",
    "        return self.name_of_vehicle , self.max_speed , self.average_of_vehicle"
   ]
  },
  {
   "cell_type": "code",
   "execution_count": 2,
   "id": "1812651b-549b-4624-8ea0-3eec28633e66",
   "metadata": {},
   "outputs": [
    {
     "data": {
      "text/plain": [
       "('Innova Crysta', 150, 18)"
      ]
     },
     "execution_count": 2,
     "metadata": {},
     "output_type": "execute_result"
    }
   ],
   "source": [
    "a=vehicle(\"Innova Crysta\" , 150 , 18)\n",
    "a.return_vehicle_details()"
   ]
  },
  {
   "cell_type": "code",
   "execution_count": 3,
   "id": "ae3d7ac0-e0ed-40bd-ba13-e800e622381e",
   "metadata": {},
   "outputs": [
    {
     "data": {
      "text/plain": [
       "('mercedes s-class', 200, 12)"
      ]
     },
     "execution_count": 3,
     "metadata": {},
     "output_type": "execute_result"
    }
   ],
   "source": [
    "b=vehicle(\"mercedes s-class\" , 200 , 12)\n",
    "b.return_vehicle_details()"
   ]
  },
  {
   "cell_type": "code",
   "execution_count": 4,
   "id": "6f11c13b-779a-4db6-912b-cfa8129fb7c1",
   "metadata": {},
   "outputs": [
    {
     "data": {
      "text/plain": [
       "('Hyundai crysta', 140, 20)"
      ]
     },
     "execution_count": 4,
     "metadata": {},
     "output_type": "execute_result"
    }
   ],
   "source": [
    "c=vehicle(\"Hyundai crysta\" , 140 , 20)\n",
    "c.return_vehicle_details()"
   ]
  },
  {
   "cell_type": "code",
   "execution_count": null,
   "id": "e5222d95-74c4-4b3b-938d-5693d1d7f500",
   "metadata": {},
   "outputs": [],
   "source": []
  },
  {
   "cell_type": "markdown",
   "id": "210cff18-79a4-429b-a89a-94cc15b18876",
   "metadata": {},
   "source": [
    "Q2. Create a child class car from the vehicle class created in Que 1, which will inherit the vehicle class.\n",
    "Create a method named seating_capacity which takes capacity as an argument and returns the name of\n",
    "the vehicle and its seating capacity."
   ]
  },
  {
   "cell_type": "code",
   "execution_count": 6,
   "id": "da4e71c1-0b7f-4901-8b91-89c6569bf158",
   "metadata": {},
   "outputs": [],
   "source": [
    "class vehicle:\n",
    "    def __init__(self, name_of_vehicle , max_speed , average_of_vehicle):\n",
    "        self.name_of_vehicle = name_of_vehicle\n",
    "        self.max_speed = max_speed\n",
    "        self.average_of_vehicle = average_of_vehicle"
   ]
  },
  {
   "cell_type": "code",
   "execution_count": 7,
   "id": "66aa7bb6-3969-40e9-b63a-8fa532537eb9",
   "metadata": {},
   "outputs": [],
   "source": [
    "class car(vehicle):\n",
    "    def seating_capacity(self , capacity):\n",
    "       return f\"{self.name_of_vehicle} - Seating Capacity: {capacity}\""
   ]
  },
  {
   "cell_type": "code",
   "execution_count": 9,
   "id": "b6f93680-1318-464a-8994-a320b18f2d39",
   "metadata": {},
   "outputs": [
    {
     "name": "stdout",
     "output_type": "stream",
     "text": [
      "Toyota Crysta - Seating Capacity: 7\n"
     ]
    }
   ],
   "source": [
    "car1 = car(\"Toyota Crysta\", 200, 20)\n",
    "print(car1.seating_capacity(7))"
   ]
  },
  {
   "cell_type": "code",
   "execution_count": 14,
   "id": "13a19479-111b-4272-813e-c98b63afeff2",
   "metadata": {},
   "outputs": [
    {
     "name": "stdout",
     "output_type": "stream",
     "text": [
      "Mercedes s-class - Seating Capacity: 4\n"
     ]
    }
   ],
   "source": [
    "car2 = car(\"Mercedes s-class\", 220, 13)\n",
    "print(car2.seating_capacity(4))"
   ]
  },
  {
   "cell_type": "code",
   "execution_count": 15,
   "id": "573b3cd4-6c81-431f-995f-4018e5facf90",
   "metadata": {},
   "outputs": [
    {
     "name": "stdout",
     "output_type": "stream",
     "text": [
      "fortuner - Seating Capacity: 5\n"
     ]
    }
   ],
   "source": [
    "car3 = car(\"fortuner\", 250, 18)\n",
    "print(car3.seating_capacity(5))"
   ]
  },
  {
   "cell_type": "code",
   "execution_count": null,
   "id": "06656316-e6ea-45cd-915f-3a051c0ac5ea",
   "metadata": {},
   "outputs": [],
   "source": []
  },
  {
   "cell_type": "markdown",
   "id": "235b9eb2-bba5-478a-944c-a584b8c420ec",
   "metadata": {},
   "source": [
    "Q3. What is multiple inheritance? Write a python code to demonstrate multiple inheritance."
   ]
  },
  {
   "cell_type": "code",
   "execution_count": null,
   "id": "48014a3f-d3c5-45a0-8848-db1a39d244d7",
   "metadata": {},
   "outputs": [],
   "source": [
    "#Multiple inheritance means a class that can be derived from more than one superclass"
   ]
  },
  {
   "cell_type": "code",
   "execution_count": 18,
   "id": "4b8debee-c8e9-4b75-98b9-48149cf6fa19",
   "metadata": {},
   "outputs": [],
   "source": [
    "#example:\n",
    "\n",
    "class test1:\n",
    "    def test_class1(self):\n",
    "      return (\"this is test class 1\")\n"
   ]
  },
  {
   "cell_type": "code",
   "execution_count": 19,
   "id": "83581e81-94b3-4f0c-b94e-c3cee59a1c86",
   "metadata": {},
   "outputs": [],
   "source": [
    "class test2:\n",
    "    def test_class2(self):\n",
    "      return (\"this is test class 2\")\n"
   ]
  },
  {
   "cell_type": "code",
   "execution_count": 20,
   "id": "757dc827-4f81-47a0-882d-29b985db0093",
   "metadata": {},
   "outputs": [],
   "source": [
    "class test3:\n",
    "    def test_class3(self):\n",
    "      return (\"this is test class 3\")\n"
   ]
  },
  {
   "cell_type": "code",
   "execution_count": 22,
   "id": "8f5b51a2-989b-4c38-8f8e-63c244b88015",
   "metadata": {},
   "outputs": [
    {
     "data": {
      "text/plain": [
       "'this is test class 2'"
      ]
     },
     "execution_count": 22,
     "metadata": {},
     "output_type": "execute_result"
    }
   ],
   "source": [
    "class test4(test1, test2, test3):\n",
    "    pass\n",
    "    \n",
    "a=test4()\n",
    "a.test_class2()"
   ]
  },
  {
   "cell_type": "code",
   "execution_count": 24,
   "id": "915d8e73-d9a6-455e-b2af-4df58c6dd6f6",
   "metadata": {},
   "outputs": [
    {
     "data": {
      "text/plain": [
       "'this is test class 1'"
      ]
     },
     "execution_count": 24,
     "metadata": {},
     "output_type": "execute_result"
    }
   ],
   "source": [
    "a.test_class1()"
   ]
  },
  {
   "cell_type": "code",
   "execution_count": 25,
   "id": "0104064d-21ed-4c92-a95a-dcac71c93234",
   "metadata": {},
   "outputs": [
    {
     "data": {
      "text/plain": [
       "'this is test class 3'"
      ]
     },
     "execution_count": 25,
     "metadata": {},
     "output_type": "execute_result"
    }
   ],
   "source": [
    "a.test_class3()"
   ]
  },
  {
   "cell_type": "code",
   "execution_count": null,
   "id": "115d01b0-51de-4ec9-8b50-5afa0cccf9dc",
   "metadata": {},
   "outputs": [],
   "source": []
  },
  {
   "cell_type": "markdown",
   "id": "318f148d-0ed0-459c-9fd9-d113871fdef7",
   "metadata": {},
   "source": [
    "Q4. What are getter and setter in python? Create a class and create a getter and a setter method in this\n",
    "class."
   ]
  },
  {
   "cell_type": "code",
   "execution_count": 26,
   "id": "9b0b2756-776f-456f-8960-9e694d30e2b5",
   "metadata": {},
   "outputs": [],
   "source": [
    "# Getter is a method which allows us to access an attribute in a given class.\n",
    "# Setter is a method which allows us to set or mutate the value of an attribute in a class."
   ]
  },
  {
   "cell_type": "code",
   "execution_count": 27,
   "id": "4b24943b-c646-4fa3-b9de-6b28e5dedca2",
   "metadata": {},
   "outputs": [],
   "source": [
    "class bank_account:\n",
    "  def __init__ (self , balance):\n",
    "    self.__balance=balance\n",
    "\n",
    "  def deposit(self,amount):\n",
    "    self.__balance = self.__balance + amount\n",
    "\n",
    "  def withdraw(self, amount):\n",
    "    if self.__balance >= amount :\n",
    "      self.__balance = self.__balance - amount\n",
    "      return True\n",
    "    else:\n",
    "        return False\n",
    "\n",
    "  def get_balance(self):\n",
    "    return self.__balance\n"
   ]
  },
  {
   "cell_type": "code",
   "execution_count": 28,
   "id": "ad66d8de-3e08-49aa-b197-7428d46b3c73",
   "metadata": {},
   "outputs": [
    {
     "data": {
      "text/plain": [
       "10000"
      ]
     },
     "execution_count": 28,
     "metadata": {},
     "output_type": "execute_result"
    }
   ],
   "source": [
    "chikku = bank_account(10000)\n",
    "chikku.get_balance()"
   ]
  },
  {
   "cell_type": "code",
   "execution_count": 29,
   "id": "7e4811d0-3da2-4acc-9456-f230a3c8bbfb",
   "metadata": {},
   "outputs": [
    {
     "data": {
      "text/plain": [
       "15000"
      ]
     },
     "execution_count": 29,
     "metadata": {},
     "output_type": "execute_result"
    }
   ],
   "source": [
    "chikku.deposit(5000)\n",
    "chikku.get_balance()"
   ]
  },
  {
   "cell_type": "code",
   "execution_count": 30,
   "id": "3108e802-e133-4910-a48d-ba19671c330b",
   "metadata": {},
   "outputs": [
    {
     "data": {
      "text/plain": [
       "12000"
      ]
     },
     "execution_count": 30,
     "metadata": {},
     "output_type": "execute_result"
    }
   ],
   "source": [
    "chikku.withdraw(3000)\n",
    "chikku.get_balance()"
   ]
  },
  {
   "cell_type": "code",
   "execution_count": null,
   "id": "fc4879d8-ab9d-4963-8894-155eb284d72c",
   "metadata": {},
   "outputs": [],
   "source": []
  },
  {
   "cell_type": "markdown",
   "id": "cdf7654e-9d05-45bf-b776-2467b5ebe6f3",
   "metadata": {},
   "source": [
    "Q5.What is method overriding in python? Write a python code to demonstrate method overriding."
   ]
  },
  {
   "cell_type": "markdown",
   "id": "749e5725-bf55-462b-a2d0-e00975897def",
   "metadata": {},
   "source": [
    "ans: Method overriding in python is when the subclass or child class can provide the program with specific characteristics or a specific implementation process of data provided that are already defined in the parent class or superclass."
   ]
  },
  {
   "cell_type": "code",
   "execution_count": 31,
   "id": "bcb6f318-5957-42c5-b352-894d614258c7",
   "metadata": {},
   "outputs": [],
   "source": [
    "# example:\n",
    "\n",
    "class Animal:\n",
    "    def make_sound(self):\n",
    "        print(\"animal sound\")\n",
    "\n",
    "class Dog(Animal):\n",
    "    def make_sound(self):\n",
    "        print(\"Barkkkkkk!!\")\n",
    "    "
   ]
  },
  {
   "cell_type": "code",
   "execution_count": 34,
   "id": "693b42e9-df7c-41c0-ba17-c818a191b105",
   "metadata": {},
   "outputs": [],
   "source": [
    "animal = Animal()\n",
    "dog = Dog()"
   ]
  },
  {
   "cell_type": "code",
   "execution_count": 35,
   "id": "bb66d6ed-9d38-4279-a6ee-06071877ddb7",
   "metadata": {},
   "outputs": [
    {
     "name": "stdout",
     "output_type": "stream",
     "text": [
      "animal sound\n",
      "Barkkkkkk!!\n"
     ]
    }
   ],
   "source": [
    "animal.make_sound()\n",
    "dog.make_sound()"
   ]
  },
  {
   "cell_type": "code",
   "execution_count": null,
   "id": "71f98c42-59bc-4f6d-a629-6ac8e611249f",
   "metadata": {},
   "outputs": [],
   "source": []
  }
 ],
 "metadata": {
  "kernelspec": {
   "display_name": "Python 3 (ipykernel)",
   "language": "python",
   "name": "python3"
  },
  "language_info": {
   "codemirror_mode": {
    "name": "ipython",
    "version": 3
   },
   "file_extension": ".py",
   "mimetype": "text/x-python",
   "name": "python",
   "nbconvert_exporter": "python",
   "pygments_lexer": "ipython3",
   "version": "3.10.8"
  }
 },
 "nbformat": 4,
 "nbformat_minor": 5
}
