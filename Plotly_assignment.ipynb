{
 "cells": [
  {
   "cell_type": "markdown",
   "id": "b849dced-5f65-4135-9dff-cc1944404095",
   "metadata": {},
   "source": [
    "Q1. Load the \"titanic\" dataset using the load_dataset function of seaborn. Use Plotly express to plot a\n",
    "scatter plot for age and fare columns in the titanic dataset."
   ]
  },
  {
   "cell_type": "code",
   "execution_count": null,
   "id": "0968ec82-83ff-4c04-b34f-78b0d6a39a12",
   "metadata": {},
   "outputs": [],
   "source": [
    "import seaborn as sns\n",
    "import plotly.express as px\n",
    "\n",
    "# Load the titanic dataset\n",
    "titanic_data = sns.load_dataset(\"titanic\")\n",
    "\n",
    "# Create a scatter plot for age and fare columns\n",
    "scatter_plot = px.scatter(titanic_data, x=\"age\", y=\"fare\")\n",
    "\n",
    "# Show the scatter plot\n",
    "scatter_plot.show()\n"
   ]
  },
  {
   "cell_type": "code",
   "execution_count": null,
   "id": "81f5ad25-72c2-4f40-817d-87fedbb2f679",
   "metadata": {},
   "outputs": [],
   "source": []
  },
  {
   "cell_type": "markdown",
   "id": "a560f895-7c45-4a03-84ff-09b32607193c",
   "metadata": {},
   "source": [
    "Q2. Using the tips dataset in the Plotly library, plot a box plot using Plotly express."
   ]
  },
  {
   "cell_type": "code",
   "execution_count": null,
   "id": "157f0ba1-956c-4e2b-a246-0e4ef020005b",
   "metadata": {},
   "outputs": [],
   "source": [
    "# Load the tips dataset from Plotly\n",
    "tips_data = px.data.tips()\n",
    "\n",
    "# Create a box plot for total bill and day of the week\n",
    "box_plot = px.box(tips_data, x=\"day\", y=\"total_bill\")\n",
    "\n",
    "# Show the box plot\n",
    "box_plot.show()\n"
   ]
  },
  {
   "cell_type": "code",
   "execution_count": null,
   "id": "c107fcac-1b62-4738-b7dd-1db3c777e3f5",
   "metadata": {},
   "outputs": [],
   "source": []
  },
  {
   "cell_type": "markdown",
   "id": "2815ba22-6f40-435e-bcfd-ae54542c3334",
   "metadata": {},
   "source": [
    "Q3. Using the tips dataset in the Plotly library, Plot a histogram for x= \"sex\" and y=\"total_bill\" column in\n",
    "the tips dataset. Also, use the \"smoker\" column with the pattern_shape parameter and the \"day\"\n",
    "column with the color parameter."
   ]
  },
  {
   "cell_type": "code",
   "execution_count": null,
   "id": "79c90064-dca4-49f2-ab44-8a00afe7b947",
   "metadata": {},
   "outputs": [],
   "source": [
    "# Load the tips dataset from Plotly\n",
    "tips_data = px.data.tips()\n",
    "\n",
    "# Create a histogram for total bill, with sex on the x-axis and smoker on the pattern_shape parameter\n",
    "histogram = px.histogram(tips_data, x=\"sex\", y=\"total_bill\", color=\"day\", pattern_shape=\"smoker\")\n",
    "\n",
    "# Show the histogram\n",
    "histogram.show()"
   ]
  },
  {
   "cell_type": "code",
   "execution_count": null,
   "id": "510fd3ff-b6a5-4cb6-b29c-1a24152adff9",
   "metadata": {},
   "outputs": [],
   "source": []
  },
  {
   "cell_type": "markdown",
   "id": "cd538f1e-513c-4137-8c26-474780383e41",
   "metadata": {},
   "source": [
    "Q4. Using the iris dataset in the Plotly library, Plot a scatter matrix plot, using the \"species\" column for\n",
    "the color parameter.\n",
    "Note: Use \"sepal_length\", \"sepal_width\", \"petal_length\", \"petal_width\" columns only with the\n",
    "dimensions parameter."
   ]
  },
  {
   "cell_type": "code",
   "execution_count": null,
   "id": "aee6b6e2-58f2-491e-925b-7923f96d8cab",
   "metadata": {},
   "outputs": [],
   "source": [
    "# Load the iris dataset from Plotly\n",
    "iris_data = px.data.iris()\n",
    "\n",
    "# Create a scatter matrix plot\n",
    "scatter_matrix = px.scatter_matrix(\n",
    "    iris_data,\n",
    "    dimensions=[\"sepal_length\", \"sepal_width\", \"petal_length\", \"petal_width\"],\n",
    "    color=\"species\"\n",
    ")\n",
    "\n",
    "# Show the scatter matrix plot\n",
    "scatter_matrix.show()"
   ]
  },
  {
   "cell_type": "code",
   "execution_count": null,
   "id": "e4f52e3a-003e-4ad3-a892-60113da2debc",
   "metadata": {},
   "outputs": [],
   "source": []
  },
  {
   "cell_type": "markdown",
   "id": "f1737b92-b7a0-409f-92c2-ed1d397ebe6a",
   "metadata": {},
   "source": [
    "Q5. What is Distplot? Using Plotly express, plot a distplot."
   ]
  },
  {
   "cell_type": "code",
   "execution_count": null,
   "id": "cd65cd14-4f02-4dfe-a170-7875c9b03c8e",
   "metadata": {},
   "outputs": [],
   "source": [
    "# Load the tips dataset from Plotly\n",
    "tips_data = px.data.tips()\n",
    "\n",
    "# Create a histogram for total bill\n",
    "histogram = px.histogram(tips_data, x=\"total_bill\")\n",
    "\n",
    "# Show the histogram\n",
    "histogram.show()\n"
   ]
  },
  {
   "cell_type": "code",
   "execution_count": null,
   "id": "9c9177ed-5029-4098-83b0-a39ccdfadb81",
   "metadata": {},
   "outputs": [],
   "source": []
  }
 ],
 "metadata": {
  "kernelspec": {
   "display_name": "Python 3 (ipykernel)",
   "language": "python",
   "name": "python3"
  },
  "language_info": {
   "codemirror_mode": {
    "name": "ipython",
    "version": 3
   },
   "file_extension": ".py",
   "mimetype": "text/x-python",
   "name": "python",
   "nbconvert_exporter": "python",
   "pygments_lexer": "ipython3",
   "version": "3.10.8"
  }
 },
 "nbformat": 4,
 "nbformat_minor": 5
}
