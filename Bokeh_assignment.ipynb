{
 "cells": [
  {
   "cell_type": "markdown",
   "id": "760f872d-e35f-4c45-a26b-9ccf3b4eba46",
   "metadata": {},
   "source": [
    "Q1. How can you create a Bokeh plot using Python code?"
   ]
  },
  {
   "cell_type": "markdown",
   "id": "b6d07f8f-e40e-41fe-9b13-f96fae709f5c",
   "metadata": {},
   "source": [
    "- Bokeh is a Python library for creating interactive visualizations in web browsers. Here are the basic steps for creating a Bokeh plot using Python code:\n",
    "\n",
    "Import the necessary Bokeh modules: bokeh.plotting and bokeh.io. Define the data you want to plot. This can be done using a Pandas DataFrame or a Python list, for example. Create a figure object using the figure() function from bokeh.plotting. This function takes various arguments to customize the plot, such as the plot width and height, x and y axis labels, etc. Add the desired glyphs (markers, lines, etc.) to the plot using one of the glyph methods such as circle(), line(), or rect() from the figure object. These methods take the data and the properties of the glyph as arguments. Add any desired interactive features to the plot such as tooltips, hover effects, and legends. Call the show() function from bokeh.io to display the plot in a web browser."
   ]
  },
  {
   "cell_type": "code",
   "execution_count": 2,
   "id": "d208252d-9c53-41da-b30a-87831e5a7267",
   "metadata": {},
   "outputs": [],
   "source": [
    "import bokeh.plotting as bp\n",
    "import bokeh.io as bi\n",
    "import pandas as pd\n",
    "\n",
    "# Define some data to plot\n",
    "x = [1, 2, 3, 4, 5]\n",
    "y = [1, 4, 9, 16, 25]\n",
    "\n",
    "# Create a figure object\n",
    "fig = bp.figure(title='My Plot', x_axis_label='X', y_axis_label='Y')\n",
    "\n",
    "# Add a circle glyph to the plot\n",
    "fig.circle(x, y, size=10, color='navy', alpha=0.5)\n",
    "\n",
    "# Display the plot\n",
    "bi.show(fig)"
   ]
  },
  {
   "cell_type": "code",
   "execution_count": null,
   "id": "ea9cdcf7-c4e4-4eb1-a5a6-929d70e0989e",
   "metadata": {},
   "outputs": [],
   "source": []
  },
  {
   "cell_type": "markdown",
   "id": "3588cf79-1b01-4940-a2ff-6399eb5b252c",
   "metadata": {},
   "source": [
    "Q2. What are glyphs in Bokeh, and how can you add them to a Bokeh plot? Explain with an example."
   ]
  },
  {
   "cell_type": "markdown",
   "id": "779c9562-11ef-45fe-ab6e-4b1c669056d5",
   "metadata": {},
   "source": [
    "- Glyphs in Bokeh are the visual building blocks used to create plots. Glyphs represent the different shapes and markers used to display data points, such as circles, squares, lines, etc. Each glyph is defined by a set of properties, such as position, size, color, and transparency, which are used to customize its appearance.\n",
    "\n",
    "- To add glyphs to a Bokeh plot, you need to create a figure object using the figure() function from bokeh.plotting, and then call one of the glyph methods such as circle(), line(), or rect() from the figure object. These methods take the data and the properties of the glyph as arguments."
   ]
  },
  {
   "cell_type": "code",
   "execution_count": 3,
   "id": "5951b388-8bf5-4622-82a0-28a56a69cda9",
   "metadata": {},
   "outputs": [],
   "source": [
    "import bokeh.plotting as bp\n",
    "import bokeh.io as bi\n",
    "import pandas as pd\n",
    "\n",
    "# Load the iris dataset from Bokeh\n",
    "from bokeh.sampledata.iris import flowers as iris_data\n",
    "\n",
    "# Create a figure object\n",
    "fig = bp.figure(title='Iris Scatter Plot', x_axis_label='Petal Length',\n",
    "                y_axis_label='Petal Width')\n",
    "\n",
    "# Add a circle glyph to the plot\n",
    "fig.circle(x=iris_data[\"petal_length\"], y=iris_data[\"petal_width\"],\n",
    "           size=10, color='blue', alpha=0.5)\n",
    "\n",
    "# Display the plot\n",
    "bi.show(fig)"
   ]
  },
  {
   "cell_type": "code",
   "execution_count": null,
   "id": "cf77f081-ba4a-4c0a-bb7b-fcce0837ffc1",
   "metadata": {},
   "outputs": [],
   "source": []
  },
  {
   "cell_type": "markdown",
   "id": "9a03ed8f-baa6-4677-9617-ffd0e6ed68e3",
   "metadata": {},
   "source": [
    "Q3. How can you customize the appearance of a Bokeh plot, including the axes, title, and legend?"
   ]
  },
  {
   "cell_type": "markdown",
   "id": "3da5308a-7348-41b5-b7b1-efc4ecc11417",
   "metadata": {},
   "source": [
    "- Bokeh provides a wide range of options to customize the appearance of a plot. Here are some of the ways to customize the appearance of a Bokeh plot:\n",
    "\n",
    "1. Title and Axis Labels: You can add a title and axis labels to your plot using the title, x_axis_label, and y_axis_label attributes of the figure object."
   ]
  },
  {
   "cell_type": "code",
   "execution_count": 5,
   "id": "c137a675-9da4-42eb-a13b-5d17a154112a",
   "metadata": {},
   "outputs": [],
   "source": [
    "fig = bp.figure(title='My Plot', x_axis_label='X Axis', y_axis_label='Y Axis')"
   ]
  },
  {
   "cell_type": "markdown",
   "id": "d6fe1a97-c1b4-4058-8ce9-fe0aeec5960a",
   "metadata": {},
   "source": [
    "2. Axis Ticks and Labels: You can customize the axis ticks and labels using the major_label_text_font_size, axis_label_text_font_size, and major_tick_line_color attributes of the Axis class."
   ]
  },
  {
   "cell_type": "code",
   "execution_count": 6,
   "id": "58c57879-d29d-474d-8bb8-4851c6a0fb63",
   "metadata": {},
   "outputs": [],
   "source": [
    "fig.xaxis.major_label_text_font_size = '14pt'\n",
    "fig.yaxis.major_label_text_font_size = '14pt'\n",
    "fig.xaxis.axis_label_text_font_size = '16pt'\n",
    "fig.yaxis.axis_label_text_font_size = '16pt'\n",
    "fig.xaxis.major_tick_line_color = 'red'\n",
    "fig.yaxis.major_tick_line_color = 'red'"
   ]
  },
  {
   "cell_type": "markdown",
   "id": "8b4b6d9f-754b-4e1a-bab2-4b0b8d6389af",
   "metadata": {},
   "source": [
    "3. Legend: You can add a legend to your plot using the legend attribute of the glyph methods. You can customize the location and title of the legend using the location and title attributes."
   ]
  },
  {
   "cell_type": "code",
   "execution_count": 7,
   "id": "05971322-4b07-458f-9464-6c9480e9cfaf",
   "metadata": {},
   "outputs": [],
   "source": [
    "fig.circle(x='x', y='y1', size=10, color='blue', legend_label='Series 1')\n",
    "fig.line(x='x', y='y2', line_width=2, color='red', legend_label='Series 2')\n",
    "fig.legend.location = 'top_left'\n",
    "fig.legend.title = 'Legend Title'\n"
   ]
  },
  {
   "cell_type": "markdown",
   "id": "ca529d73-c62b-40db-8aba-42532f2557bd",
   "metadata": {},
   "source": [
    "4. Background: You can set the background color of your plot using the background_fill_color attribute of the figure object."
   ]
  },
  {
   "cell_type": "code",
   "execution_count": 9,
   "id": "fa49f952-fa48-42ac-8759-4aca4db0e4bf",
   "metadata": {},
   "outputs": [],
   "source": [
    "fig.background_fill_color = '#f2f2f2'\n"
   ]
  },
  {
   "cell_type": "markdown",
   "id": "a80465d7-d72f-4fe3-8ac4-298e8e9c02a6",
   "metadata": {},
   "source": [
    "5. Gridlines: You can customize the appearance of the gridlines using the grid_line_color and grid_line_alpha attributes of the figure object."
   ]
  },
  {
   "cell_type": "code",
   "execution_count": 10,
   "id": "272140d1-040a-4a2d-a0f4-50ef7378d43c",
   "metadata": {},
   "outputs": [],
   "source": [
    "fig.grid.grid_line_color = 'white'\n",
    "fig.grid.grid_line_alpha = 0.5\n"
   ]
  },
  {
   "cell_type": "code",
   "execution_count": null,
   "id": "ac42f7b1-aca2-447d-b7db-d5d308e9b05c",
   "metadata": {},
   "outputs": [],
   "source": []
  },
  {
   "cell_type": "markdown",
   "id": "aeabc520-f145-43d6-9ff0-93e12bec1c76",
   "metadata": {},
   "source": [
    "Q4. What is a Bokeh server, and how can you use it to create interactive plots that can be updated in\n",
    "real time?"
   ]
  },
  {
   "cell_type": "markdown",
   "id": "a272d946-c493-4556-a975-0e213d2aeadf",
   "metadata": {},
   "source": [
    "Bokeh server is a Python library that allows you to create interactive Bokeh plots that can be updated in real-time. Bokeh server is built on top of Tornado, a scalable web framework for Python.\n",
    "\n",
    "To create an interactive plot using Bokeh server, you need to define your plot as a Bokeh Document object. The Document object contains all the Bokeh objects that make up your plot, such as figures, glyphs, and layouts. You can then add interactive widgets to your plot, such as sliders, buttons, and dropdown menus. The widgets are defined using Bokeh's models API and added to the Document.\n",
    "\n",
    "Once you have defined your plot and added interactive widgets, you can run the Bokeh server using the bokeh serve command. The Bokeh server creates a web application that serves your plot and widgets. When a user interacts with the widgets, the server updates the plot in real-time based on the user's input.\n",
    "\n",
    "Here is an example of how to create an interactive Bokeh plot using Bokeh server:"
   ]
  },
  {
   "cell_type": "code",
   "execution_count": 11,
   "id": "bdc874cb-df27-4dc3-b4e4-343ff3346408",
   "metadata": {},
   "outputs": [],
   "source": [
    "from bokeh.io import curdoc\n",
    "from bokeh.layouts import column\n",
    "from bokeh.models import ColumnDataSource, Slider\n",
    "from bokeh.plotting import figure\n",
    "\n",
    "# Define the data source\n",
    "source = ColumnDataSource(data=dict(x=[1, 2, 3], y=[1, 4, 9]))\n",
    "\n",
    "# Define the plot\n",
    "plot = figure(title='Interactive Plot', x_axis_label='X', y_axis_label='Y')\n",
    "plot.line('x', 'y', source=source, line_width=2)\n",
    "\n",
    "# Define the slider widget\n",
    "slider = Slider(title='Power', value=1, start=0.1, end=5, step=0.1)\n",
    "\n",
    "# Define the callback function\n",
    "def update_data(attrname, old, new):\n",
    "    new_y = [x**slider.value for x in source.data['x']]\n",
    "    source.data = dict(x=source.data['x'], y=new_y)\n",
    "\n",
    "slider.on_change('value', update_data)\n",
    "\n",
    "# Combine the plot and slider into a layout\n",
    "layout = column(plot, slider)\n",
    "\n",
    "# Add the layout to the current document\n",
    "curdoc().add_root(layout)"
   ]
  },
  {
   "cell_type": "code",
   "execution_count": null,
   "id": "28a2c7df-9aa1-46ce-805f-52d3eef9f602",
   "metadata": {},
   "outputs": [],
   "source": []
  },
  {
   "cell_type": "markdown",
   "id": "c47760af-c499-4429-9fc3-c2df08d53cd0",
   "metadata": {},
   "source": [
    "Q5. How can you embed a Bokeh plot into a web page or dashboard using Flask or Django?"
   ]
  },
  {
   "cell_type": "code",
   "execution_count": null,
   "id": "c54013aa-cc2e-4759-a461-796613f74b67",
   "metadata": {},
   "outputs": [],
   "source": [
    "from flask import Flask, render_template\n",
    "from bokeh.embed import components\n",
    "from bokeh.plotting import figure\n",
    "from bokeh.resources import CDN\n",
    "\n",
    "app = Flask(__name__)\n",
    "\n",
    "@app.route('/')\n",
    "def index():\n",
    "    # Create the plot\n",
    "    plot = figure(title='My Plot', x_axis_label='X', y_axis_label='Y')\n",
    "    plot.line([1, 2, 3], [1, 4, 9])\n",
    "\n",
    "    # Generate the HTML components\n",
    "    script, div = components(plot)\n",
    "\n",
    "    # Render the template with the plot components\n",
    "    return render_template('index.html', script=script, div=div, cdn_js=CDN.js_files[0], cdn_css=CDN.css_files[0])\n",
    "\n",
    "if __name__ == '__main__':\n",
    "    app.run()"
   ]
  },
  {
   "cell_type": "code",
   "execution_count": null,
   "id": "c3770677-bbb6-441a-b1bd-17b008872d7b",
   "metadata": {},
   "outputs": [],
   "source": []
  },
  {
   "cell_type": "code",
   "execution_count": null,
   "id": "52788cbb-7114-4194-ae65-7457df11184b",
   "metadata": {},
   "outputs": [],
   "source": []
  },
  {
   "cell_type": "code",
   "execution_count": null,
   "id": "3ee8707b-499e-4626-8fac-21a6929e590f",
   "metadata": {},
   "outputs": [],
   "source": []
  }
 ],
 "metadata": {
  "kernelspec": {
   "display_name": "Python 3 (ipykernel)",
   "language": "python",
   "name": "python3"
  },
  "language_info": {
   "codemirror_mode": {
    "name": "ipython",
    "version": 3
   },
   "file_extension": ".py",
   "mimetype": "text/x-python",
   "name": "python",
   "nbconvert_exporter": "python",
   "pygments_lexer": "ipython3",
   "version": "3.10.8"
  }
 },
 "nbformat": 4,
 "nbformat_minor": 5
}
