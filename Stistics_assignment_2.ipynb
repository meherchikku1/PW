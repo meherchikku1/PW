{
 "cells": [
  {
   "cell_type": "markdown",
   "id": "1633c934-cb7d-4f28-90d8-d10aab6930d1",
   "metadata": {},
   "source": [
    "Q1. What are the three measures of central tendency?"
   ]
  },
  {
   "cell_type": "markdown",
   "id": "fcb5a9d1-4841-44f3-a71c-f0a7870c35c7",
   "metadata": {},
   "source": [
    "The three central tendency measures are:\n",
    "\n",
    "- Mean: The mean is the average of a set of values. It is calculated by summing all the values in a dataset and then dividing the sum by the total number of values.\n",
    "\n",
    "- Median: The median is the middle value in a dataset when the values are arranged in ascending or descending order. If the dataset has an even number of values, the median is calculated by taking the average of the two middle values.\n",
    "\n",
    "- Mode: The mode is the value that appears most frequently in a dataset. If there are multiple values that appear with the same frequency, then the dataset is said to have multiple modes."
   ]
  },
  {
   "cell_type": "code",
   "execution_count": null,
   "id": "2c00c8cd-fa27-4244-83a7-45b362b5f3a6",
   "metadata": {},
   "outputs": [],
   "source": []
  },
  {
   "cell_type": "markdown",
   "id": "a9b75541-5fa0-49f5-8e4f-b213af5e343e",
   "metadata": {},
   "source": [
    "Q2. What is the difference between the mean, median, and mode? How are they used to measure the\n",
    "central tendency of a dataset?"
   ]
  },
  {
   "cell_type": "markdown",
   "id": "1068fffe-57a0-48de-bc08-fe61458c43fb",
   "metadata": {},
   "source": [
    "The mean, median, and mode are all measures of central tendency, but they differ in how they represent the center of a dataset.\n",
    "\n",
    "The mean is the arithmetic average of a set of values. It is calculated by adding up all the values in the dataset and dividing by the total number of values. The mean is sensitive to extreme values, which means that a few unusually high or low values can significantly impact the mean.\n",
    "\n",
    "The median is the middle value in a dataset when the values are arranged in order from smallest to largest. If there is an even number of values, the median is the average of the two middle values. The median is a good measure of central tendency when the dataset contains extreme values or outliers, as it is not affected by these values.\n",
    "\n",
    "The mode is the value that appears most frequently in a dataset. A dataset can have more than one mode if there are multiple values that appear with the same frequency. The mode is a good measure of central tendency for categorical data or discrete variables.\n",
    "\n",
    "To measure the central tendency of a dataset, you can use any of these measures depending on the nature of the data and the research question you are trying to answer. The mean is commonly used for continuous variables that are normally distributed, while the median is often used for skewed data or when outliers are present. The mode is useful for categorical data or when you want to know the most common value in a dataset."
   ]
  },
  {
   "cell_type": "code",
   "execution_count": null,
   "id": "21e61524-d770-4e22-9b63-cf19896c10ef",
   "metadata": {},
   "outputs": [],
   "source": []
  },
  {
   "cell_type": "markdown",
   "id": "0d44ad16-f633-4072-91d2-5e7552a96057",
   "metadata": {},
   "source": [
    "Q3. Measure the three measures of central tendency for the given height data:\n",
    "[178,177,176,177,178.2,178,175,179,180,175,178.9,176.2,177,172.5,178,176.5]"
   ]
  },
  {
   "cell_type": "code",
   "execution_count": 1,
   "id": "34c50ec4-3efe-44b1-a008-19c88cb6fffa",
   "metadata": {},
   "outputs": [
    {
     "name": "stdout",
     "output_type": "stream",
     "text": [
      "Mean height is: 177.01875\n",
      "Median height is: 177.0\n",
      "Mode height is: 178\n"
     ]
    }
   ],
   "source": [
    "# importing statistics module\n",
    "import statistics \n",
    "\n",
    "# creating the height data list\n",
    "height_data = [178,177,176,177,178.2,178,175,179,180,175,178.9,176.2,177,172.5,178,176.5]\n",
    "\n",
    "# calculating the mean\n",
    "mean_height = statistics.mean(height_data)\n",
    "print(\"Mean height is:\", mean_height)\n",
    "\n",
    "# calculating the median\n",
    "median_height = statistics.median(height_data)\n",
    "print(\"Median height is:\", median_height)\n",
    "\n",
    "# calculating the mode\n",
    "mode_height = statistics.mode(height_data)\n",
    "print(\"Mode height is:\", mode_height)"
   ]
  },
  {
   "cell_type": "code",
   "execution_count": null,
   "id": "3fb91d87-d738-4864-b7a5-cee7796e5b34",
   "metadata": {},
   "outputs": [],
   "source": []
  },
  {
   "cell_type": "markdown",
   "id": "27b906ce-8063-4968-8641-cab0cc64e454",
   "metadata": {},
   "source": [
    "Q4. Find the standard deviation for the given data:\n",
    "[178,177,176,177,178.2,178,175,179,180,175,178.9,176.2,177,172.5,178,176.5]"
   ]
  },
  {
   "cell_type": "code",
   "execution_count": 2,
   "id": "9e6bc769-fff0-4335-bfac-5a73042b7519",
   "metadata": {},
   "outputs": [
    {
     "name": "stdout",
     "output_type": "stream",
     "text": [
      "Standard deviation of height data is: 1.8472389305844188\n"
     ]
    }
   ],
   "source": [
    "# importing statistics module\n",
    "import statistics\n",
    "\n",
    "# creating the height data list\n",
    "height_data = [178,177,176,177,178.2,178,175,179,180,175,178.9,176.2,177,172.5,178,176.5]\n",
    "\n",
    "# calculating the standard deviation\n",
    "std_height = statistics.stdev(height_data)\n",
    "print(\"Standard deviation of height data is:\", std_height)"
   ]
  },
  {
   "cell_type": "code",
   "execution_count": null,
   "id": "19dc7de1-ec25-42ca-a863-c0155922e3b0",
   "metadata": {},
   "outputs": [],
   "source": []
  },
  {
   "cell_type": "markdown",
   "id": "0a8270ec-9aa9-4825-a52e-7cc2483df79e",
   "metadata": {},
   "source": [
    "Q5. How are measures of dispersion such as range, variance, and standard deviation used to describe\n",
    "the spread of a dataset? Provide an example."
   ]
  },
  {
   "cell_type": "markdown",
   "id": "6f0efc90-d7f7-4454-834b-13a38275621c",
   "metadata": {},
   "source": [
    "Measures of dispersion such as range, variance, and standard deviation are used to describe the spread or variability of a dataset. They give an idea of how spread out the data points are from the central tendency.\n",
    "\n",
    "Range: The range is the difference between the maximum and minimum values in a dataset. It gives a rough estimate of the spread of the data. For example, if we have a dataset of test scores with a range of 40, we can say that the scores are spread out over a range of 40 points.\n",
    "\n",
    "Variance: The variance is the average of the squared differences from the mean. It measures how much the data points deviate from the mean. A higher variance indicates a greater spread of the data. For example, if we have a dataset of the heights of students in a class with a variance of 4, we can say that the heights of the students are spread out over a range of 2 cm on either side of the mean.\n",
    "\n",
    "Standard deviation: The standard deviation is the square root of the variance. It measures the spread of the data in the same units as the original data. A higher standard deviation indicates a greater spread of the data. For example, if we have a dataset of the weights of apples in a basket with a standard deviation of 2 kg, we can say that the weights of the apples are spread out over a range of 4 kg on either side of the mean.\n",
    "\n",
    "As an example, consider the following dataset of test scores:\n",
    "\n",
    "[85, 90, 75, 80, 95, 70, 85, 90, 80, 75]\n",
    "\n",
    "The mean score is 82, and we can calculate the measures of dispersion as follows:\n",
    "\n",
    "Range: The range is the difference between the maximum and minimum values, which is 25 (95 - 70). Variance: The variance is the average of the squared differences from the mean, which is 62.5. Standard deviation: The standard deviation is the square root of the variance, which is approximately 7.91.\n",
    "\n"
   ]
  },
  {
   "cell_type": "code",
   "execution_count": null,
   "id": "66be2d8f-f2ee-40bf-b873-a86555b98066",
   "metadata": {},
   "outputs": [],
   "source": []
  },
  {
   "cell_type": "markdown",
   "id": "7809aebf-b96c-47f1-adb8-749ddf63fa0e",
   "metadata": {},
   "source": [
    "Q6. What is a Venn diagram?"
   ]
  },
  {
   "cell_type": "markdown",
   "id": "23a9846e-d501-4856-b4d2-f9d6e9eca345",
   "metadata": {},
   "source": [
    "A Venn diagram is a visual representation of the relationships between sets of data. It is a diagram that shows all possible logical relations between a finite collection of sets, often represented as circles that overlap or are disjoint. Venn diagrams are commonly used to illustrate simple set relationships in logic, statistics, probability, and computer science.\n",
    "\n",
    "In a Venn diagram, each circle represents a set, and the region where the circles overlap represents the intersection of those sets. The areas outside the circles represent the complement of those sets."
   ]
  },
  {
   "cell_type": "code",
   "execution_count": null,
   "id": "8546ca7f-01fd-4973-b8a2-2de706ed7383",
   "metadata": {},
   "outputs": [],
   "source": []
  },
  {
   "cell_type": "markdown",
   "id": "23d86dd5-7b79-4ae0-a0df-58ebb3cd1f49",
   "metadata": {},
   "source": [
    "Q7. For the two given sets A = (2,3,4,5,6,7) & B = (0,2,6,8,10). Find:\n",
    "(i) A B\n",
    "(ii) A ⋃ B"
   ]
  },
  {
   "cell_type": "code",
   "execution_count": 3,
   "id": "fe621cd5-1199-48c3-8ae3-923fb853e783",
   "metadata": {},
   "outputs": [
    {
     "name": "stdout",
     "output_type": "stream",
     "text": [
      "Intersection of A and B: {2, 6}\n",
      "Union of A and B: {0, 2, 3, 4, 5, 6, 7, 8, 10}\n"
     ]
    }
   ],
   "source": [
    "# define the sets A and B\n",
    "A = {2, 3, 4, 5, 6, 7}\n",
    "B = {0, 2, 6, 8, 10}\n",
    "\n",
    "# find the intersection of A and B\n",
    "intersection = A.intersection(B)\n",
    "print(\"Intersection of A and B:\", intersection)\n",
    "\n",
    "# find the union of A and B\n",
    "union = A.union(B)\n",
    "print(\"Union of A and B:\", union)"
   ]
  },
  {
   "cell_type": "code",
   "execution_count": null,
   "id": "98091380-b608-4cab-9c37-7ae943317f73",
   "metadata": {},
   "outputs": [],
   "source": []
  },
  {
   "cell_type": "markdown",
   "id": "d1835ccc-0be2-4ecd-ac19-927286b4593a",
   "metadata": {},
   "source": [
    "Q8. What do you understand about skewness in data?"
   ]
  },
  {
   "cell_type": "markdown",
   "id": "7ebf5c84-c242-4917-a668-71ec5554d4f9",
   "metadata": {},
   "source": [
    "In statistics, skewness is a measure of the asymmetry of a probability distribution. Skewness refers to the degree to which the data is not symmetrically distributed around the mean. It indicates whether the data is skewed to the left or to the right of the mean.\n",
    "\n",
    "If a distribution is symmetrical, then it has zero skewness. If the tail of the distribution is longer on the right side than on the left side, then the distribution is said to be positively skewed, and it has a positive skewness. On the other hand, if the tail of the distribution is longer on the left side than on the right side, then the distribution is said to be negatively skewed, and it has a negative skewness."
   ]
  },
  {
   "cell_type": "code",
   "execution_count": null,
   "id": "bd51780c-021e-4f10-9b2e-d4b7f2ade966",
   "metadata": {},
   "outputs": [],
   "source": []
  },
  {
   "cell_type": "markdown",
   "id": "877aa270-65e3-4740-8515-9418b614d939",
   "metadata": {},
   "source": [
    "Q9. If a data is right skewed then what will be the position of median with respect to mean?"
   ]
  },
  {
   "cell_type": "markdown",
   "id": "54fd2777-f95e-4d73-a892-2187ba864571",
   "metadata": {},
   "source": [
    "If a data set is right-skewed, it means that the tail of the distribution is longer on the right side, and the data is concentrated on the left side of the distribution. In this case, the mean is greater than the median.\n",
    "\n",
    "To understand why this is the case, consider a right-skewed distribution like income. In this distribution, there are a small number of individuals who earn very high incomes, which pull the mean to the right. However, most people earn lower incomes, so the median is not as affected by the high earners and remains closer to the center of the distribution.\n",
    "\n",
    "Therefore, the median will be to the left of the mean in a right-skewed distribution."
   ]
  },
  {
   "cell_type": "code",
   "execution_count": null,
   "id": "573ca68c-daac-4e9c-aafe-c321b177fafa",
   "metadata": {},
   "outputs": [],
   "source": []
  },
  {
   "cell_type": "markdown",
   "id": "771c8f92-9a44-46e1-a3d4-d8ff1f241131",
   "metadata": {},
   "source": [
    "Q10. Explain the difference between covariance and correlation. How are these measures used in\n",
    "statistical analysis?"
   ]
  },
  {
   "cell_type": "markdown",
   "id": "7af01a50-5843-4ea7-852b-1a0a4d19250a",
   "metadata": {},
   "source": [
    "Covariance and correlation are two statistical measures that are used to quantify the relationship between two variables.\n",
    "\n",
    "Covariance is a measure of how two variables vary together. It measures the degree to which two variables are linearly related. A positive covariance indicates that the two variables move in the same direction, while a negative covariance indicates that they move in opposite directions. However, the magnitude of covariance does not have a standardized scale and it can be affected by the scale of the variables being measured.\n",
    "\n",
    "Correlation, on the other hand, is a measure of the strength and direction of the linear relationship between two variables. Correlation ranges from -1 to +1, where -1 indicates a perfect negative correlation, 0 indicates no correlation, and +1 indicates a perfect positive correlation. Correlation is standardized, which means that it is not affected by the scale of the variables being measured.\n",
    "\n",
    "In statistical analysis, covariance and correlation are used to assess the relationship between two variables. They help to identify patterns and trends in the data, and to determine the strength and direction of the relationship between the variables. They are also used to test hypotheses and to make predictions about the behavior of the variables."
   ]
  },
  {
   "cell_type": "code",
   "execution_count": null,
   "id": "fff4abcc-79d8-4441-8f61-ef8386bf32e3",
   "metadata": {},
   "outputs": [],
   "source": []
  },
  {
   "cell_type": "markdown",
   "id": "aa8d04dc-175a-46b4-9cb7-29c65c52b085",
   "metadata": {},
   "source": [
    "Q11. What is the formula for calculating the sample mean? Provide an example calculation for a\n",
    "dataset."
   ]
  },
  {
   "cell_type": "markdown",
   "id": "9871b1a8-9c7b-4b3d-825e-b825d1b86c47",
   "metadata": {},
   "source": [
    "The formula for calculating the sample mean is:\n",
    "\n",
    "Sample Mean = (Sum of all observations) / (Number of observations) In other words, the sample mean is calculated by adding up all the values in a sample and dividing by the number of observations in the sample.\n",
    "\n",
    "Here is an example calculation:\n",
    "\n",
    "Suppose we have the following dataset: [4, 7, 9, 12, 15]\n",
    "\n",
    "To calculate the sample mean, we add up all the values and divide by the number of observations:\n",
    "\n",
    "Sample Mean = (4 + 7 + 9 + 12 + 15) / 5 = 47 / 5 = 9.4\n",
    "\n",
    "Therefore, the sample mean for this dataset is 9.4."
   ]
  },
  {
   "cell_type": "code",
   "execution_count": null,
   "id": "5e84f3a1-e286-4ac9-bf6e-18b03e487654",
   "metadata": {},
   "outputs": [],
   "source": []
  },
  {
   "cell_type": "markdown",
   "id": "06335889-957e-4ba0-ae2b-dcebd0805ba2",
   "metadata": {},
   "source": [
    "Q12. For a normal distribution data what is the relationship between its measure of central tendency?"
   ]
  },
  {
   "cell_type": "markdown",
   "id": "732f8498-cd00-4870-bf10-495d03beb218",
   "metadata": {},
   "source": [
    "For a normal distribution, the measures of central tendency, namely the mean, median, and mode, are all equal. In other words, they have the same value.\n",
    "\n",
    "This is because a normal distribution is a symmetric distribution, with equal amounts of data on both sides of the mean. The median, which is the middle value of the dataset, is also the same as the mean in a normal distribution.\n",
    "\n",
    "Additionally, the mode, which is the value that occurs most frequently in the dataset, is also equal to the mean and median in a normal distribution.\n",
    "\n",
    "Therefore, for a normal distribution, the mean, median, and mode are all the same value, and they all represent the center or midpoint of the distribution."
   ]
  },
  {
   "cell_type": "code",
   "execution_count": null,
   "id": "e42f5c7e-e0f3-4d16-bba0-1a7badfd0a27",
   "metadata": {},
   "outputs": [],
   "source": []
  },
  {
   "cell_type": "markdown",
   "id": "af11e1de-c6a9-4832-8b87-28e9d3d422b0",
   "metadata": {},
   "source": [
    "Q13. How is covariance different from correlation?"
   ]
  },
  {
   "cell_type": "markdown",
   "id": "2ed288d0-dc69-4bba-b128-100e0580771b",
   "metadata": {},
   "source": [
    "Covariance and correlation are both statistical measures that describe the relationship between two variables, but they differ in several important ways.\n",
    "\n",
    "Range: The range of covariance is unbounded, which means it can take on any value. In contrast, the range of correlation is between -1 and +1.\n",
    "\n",
    "Standardization: Covariance is not standardized, which means it is affected by the scale of the variables being measured. Correlation, on the other hand, is standardized, which means it is not affected by the scale of the variables.\n",
    "\n",
    "Interpretation: Covariance measures the direction and strength of the linear relationship between two variables. A positive covariance indicates a positive relationship between the variables, while a negative covariance indicates a negative relationship. However, it does not provide any information about the strength of the relationship. Correlation, on the other hand, provides information about both the direction and strength of the linear relationship between two variables.\n",
    "\n",
    "Units: Covariance is measured in units that are the product of the units of the two variables being measured. Correlation is unitless."
   ]
  },
  {
   "cell_type": "code",
   "execution_count": null,
   "id": "4139f8b1-0b8c-4fe9-b2ca-ea444c49a30b",
   "metadata": {},
   "outputs": [],
   "source": []
  },
  {
   "cell_type": "markdown",
   "id": "a7327069-8026-45d4-9a1f-39c4f6d22e1b",
   "metadata": {},
   "source": [
    "Q14. How do outliers affect measures of central tendency and dispersion? Provide an example."
   ]
  },
  {
   "cell_type": "markdown",
   "id": "0960cba5-3e09-4b5b-80b5-07d7f55d8a30",
   "metadata": {},
   "source": [
    "Outliers are data points that are significantly different from other observations in a dataset. Outliers can have a significant impact on measures of central tendency and dispersion.\n",
    "\n",
    "Measures of central tendency, such as the mean, are affected by outliers because they are calculated using all the data points in the dataset. If there are outliers present, they can significantly pull the mean in one direction or another, causing it to be an inaccurate representation of the center of the dataset.\n",
    "\n",
    "For example, suppose we have the following dataset: [2, 3, 4, 5, 6, 7, 100]. The mean of this dataset is (2+3+4+5+6+7+100) / 7 = 18.43. However, the outlier value of 100 is significantly larger than all the other values in the dataset, which makes the mean an inaccurate representation of the center of the dataset.\n",
    "\n",
    "Outliers can also affect measures of dispersion, such as the range, variance, and standard deviation. Outliers can increase the range of the dataset, which makes it difficult to interpret the spread of the data. Outliers can also increase the variance and standard deviation, which makes the spread of the data appear larger than it actually is.\n",
    "\n",
    "For example, suppose we have the following dataset: [2, 3, 4, 5, 6, 7, 100]. The range of this dataset is 98, which makes the spread of the data appear much larger than it actually is. The variance of this dataset is 1372.8, which is also significantly larger than it would be if the outlier were not present."
   ]
  },
  {
   "cell_type": "code",
   "execution_count": null,
   "id": "eecb52c6-6e4e-4c73-bc41-ab9d333818ab",
   "metadata": {},
   "outputs": [],
   "source": []
  },
  {
   "cell_type": "code",
   "execution_count": null,
   "id": "0cbe2549-2c53-443e-b487-a367e52fa00b",
   "metadata": {},
   "outputs": [],
   "source": []
  }
 ],
 "metadata": {
  "kernelspec": {
   "display_name": "Python 3 (ipykernel)",
   "language": "python",
   "name": "python3"
  },
  "language_info": {
   "codemirror_mode": {
    "name": "ipython",
    "version": 3
   },
   "file_extension": ".py",
   "mimetype": "text/x-python",
   "name": "python",
   "nbconvert_exporter": "python",
   "pygments_lexer": "ipython3",
   "version": "3.10.8"
  }
 },
 "nbformat": 4,
 "nbformat_minor": 5
}
